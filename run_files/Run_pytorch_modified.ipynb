{
 "cells": [
  {
   "cell_type": "markdown",
   "metadata": {},
   "source": [
    "# 0. Description\n",
    "This notebook is part of Pose Classification Application for children ADHD Detecting.\n",
    "\n",
    "Following contents will include\n",
    "    - Training code with Pytorch\n",
    "    - Training loss and validation loss matplot\n",
    "    - Early stopping to prevent overfitting\n",
    "    - visualizing else"
   ]
  },
  {
   "cell_type": "code",
   "execution_count": 33,
   "metadata": {},
   "outputs": [
    {
     "data": {
      "text/plain": [
       "6.518232781272265e-05"
      ]
     },
     "execution_count": 33,
     "metadata": {},
     "output_type": "execute_result"
    }
   ],
   "source": [
    "a = np.linspace(0, np.pi, seq_length*input_size)\n",
    "a[1]"
   ]
  },
  {
   "cell_type": "markdown",
   "metadata": {},
   "source": [
    "# 1. Setting"
   ]
  },
  {
   "cell_type": "code",
   "execution_count": 1,
   "metadata": {},
   "outputs": [
    {
     "name": "stdout",
     "output_type": "stream",
     "text": [
      "Requirement already satisfied: torch in /home/ubuntu/Action_Recognition/Baby-Action-Recognition/mp_env/lib/python3.6/site-packages (1.10.1)\n",
      "Requirement already satisfied: torchvision in /home/ubuntu/Action_Recognition/Baby-Action-Recognition/mp_env/lib/python3.6/site-packages (0.11.2)\n",
      "Requirement already satisfied: tqdm in /home/ubuntu/Action_Recognition/Baby-Action-Recognition/mp_env/lib/python3.6/site-packages (4.64.1)\n",
      "Requirement already satisfied: matplotlib in /home/ubuntu/Action_Recognition/Baby-Action-Recognition/mp_env/lib/python3.6/site-packages (3.3.4)\n",
      "Requirement already satisfied: mediapipe in /home/ubuntu/Action_Recognition/Baby-Action-Recognition/mp_env/lib/python3.6/site-packages (0.8.3)\n",
      "Requirement already satisfied: pandas in /home/ubuntu/Action_Recognition/Baby-Action-Recognition/mp_env/lib/python3.6/site-packages (1.1.5)\n",
      "Requirement already satisfied: typing-extensions in /home/ubuntu/Action_Recognition/Baby-Action-Recognition/mp_env/lib/python3.6/site-packages (from torch) (3.7.4.3)\n",
      "Requirement already satisfied: dataclasses in /home/ubuntu/Action_Recognition/Baby-Action-Recognition/mp_env/lib/python3.6/site-packages (from torch) (0.8)\n",
      "Requirement already satisfied: pillow!=8.3.0,>=5.3.0 in /home/ubuntu/Action_Recognition/Baby-Action-Recognition/mp_env/lib/python3.6/site-packages (from torchvision) (8.4.0)\n",
      "Requirement already satisfied: numpy in /home/ubuntu/Action_Recognition/Baby-Action-Recognition/mp_env/lib/python3.6/site-packages (from torchvision) (1.19.3)\n",
      "Requirement already satisfied: importlib-resources in /home/ubuntu/Action_Recognition/Baby-Action-Recognition/mp_env/lib/python3.6/site-packages (from tqdm) (5.4.0)\n",
      "Requirement already satisfied: kiwisolver>=1.0.1 in /home/ubuntu/Action_Recognition/Baby-Action-Recognition/mp_env/lib/python3.6/site-packages (from matplotlib) (1.3.1)\n",
      "Requirement already satisfied: cycler>=0.10 in /home/ubuntu/Action_Recognition/Baby-Action-Recognition/mp_env/lib/python3.6/site-packages (from matplotlib) (0.11.0)\n",
      "Requirement already satisfied: pyparsing!=2.0.4,!=2.1.2,!=2.1.6,>=2.0.3 in /home/ubuntu/Action_Recognition/Baby-Action-Recognition/mp_env/lib/python3.6/site-packages (from matplotlib) (3.0.9)\n",
      "Requirement already satisfied: python-dateutil>=2.1 in /home/ubuntu/Action_Recognition/Baby-Action-Recognition/mp_env/lib/python3.6/site-packages (from matplotlib) (2.8.2)\n",
      "Requirement already satisfied: opencv-python in /home/ubuntu/Action_Recognition/Baby-Action-Recognition/mp_env/lib/python3.6/site-packages (from mediapipe) (4.6.0.66)\n",
      "Requirement already satisfied: wheel in /home/ubuntu/Action_Recognition/Baby-Action-Recognition/mp_env/lib/python3.6/site-packages (from mediapipe) (0.37.1)\n",
      "Requirement already satisfied: six in /home/ubuntu/Action_Recognition/Baby-Action-Recognition/mp_env/lib/python3.6/site-packages (from mediapipe) (1.15.0)\n",
      "Requirement already satisfied: protobuf>=3.11.4 in /home/ubuntu/Action_Recognition/Baby-Action-Recognition/mp_env/lib/python3.6/site-packages (from mediapipe) (3.19.4)\n",
      "Requirement already satisfied: attrs in /home/ubuntu/Action_Recognition/Baby-Action-Recognition/mp_env/lib/python3.6/site-packages (from mediapipe) (22.1.0)\n",
      "Requirement already satisfied: absl-py in /home/ubuntu/Action_Recognition/Baby-Action-Recognition/mp_env/lib/python3.6/site-packages (from mediapipe) (0.15.0)\n",
      "Requirement already satisfied: pytz>=2017.2 in /home/ubuntu/Action_Recognition/Baby-Action-Recognition/mp_env/lib/python3.6/site-packages (from pandas) (2022.1)\n",
      "Requirement already satisfied: zipp>=3.1.0 in /home/ubuntu/Action_Recognition/Baby-Action-Recognition/mp_env/lib/python3.6/site-packages (from importlib-resources->tqdm) (3.6.0)\n"
     ]
    }
   ],
   "source": [
    "!pip install torch torchvision tqdm matplotlib mediapipe pandas"
   ]
  },
  {
   "cell_type": "code",
   "execution_count": 2,
   "metadata": {},
   "outputs": [
    {
     "name": "stderr",
     "output_type": "stream",
     "text": [
      "/home/ubuntu/Action_Recognition/Baby-Action-Recognition/mp_env/lib/python3.6/site-packages/tqdm/auto.py:22: TqdmWarning: IProgress not found. Please update jupyter and ipywidgets. See https://ipywidgets.readthedocs.io/en/stable/user_install.html\n",
      "  from .autonotebook import tqdm as notebook_tqdm\n"
     ]
    },
    {
     "name": "stdout",
     "output_type": "stream",
     "text": [
      "USING pyTorch Version: 1.10.1+cu102  Device: cpu\n"
     ]
    }
   ],
   "source": [
    "# Libraries\n",
    "import cv2\n",
    "import mediapipe as mp\n",
    "import numpy as np\n",
    "import matplotlib.pyplot as plt\n",
    "import torch\n",
    "import torch.nn as nn\n",
    "import torch.nn.functional as F\n",
    "import torchvision\n",
    "import torchvision.transforms as transforms\n",
    "import math\n",
    "from tqdm import tqdm\n",
    "import os\n",
    "\n",
    "from sklearn.model_selection import train_test_split\n",
    "from tensorflow.keras.utils import to_categorical\n",
    "\n",
    "from torch.optim import lr_scheduler\n",
    "from torch.utils.data import DataLoader, Dataset\n",
    "\n",
    "from sklearn.model_selection import train_test_split\n",
    "from tensorflow.keras.utils import to_categorical\n",
    "\n",
    "if torch.cuda.is_available():\n",
    "    DEVICE = torch.device('cuda')\n",
    "else:\n",
    "    DEVICE = torch.device('cpu')\n",
    "\n",
    "print('USING pyTorch Version:', torch.__version__, ' Device:', DEVICE)\n",
    "\n",
    "mp_holistic = mp.solutions.holistic # Holistic model\n",
    "mp_drawing = mp.solutions.drawing_utils # Drawing utilities"
   ]
  },
  {
   "cell_type": "code",
   "execution_count": 3,
   "metadata": {},
   "outputs": [],
   "source": [
    "# Mediapipe function setting\n",
    "\n",
    "def mediapipe_detection(image, model):\n",
    "    image = cv2.cvtColor(image, cv2.COLOR_BGR2RGB) # COLOR CONVERSION BGR 2 RGB\n",
    "    image.flags.writeable = False                  # Image is no longer writeable\n",
    "    results = model.process(image)                 # Make prediction\n",
    "    image.flags.writeable = True                   # Image is now writeable \n",
    "    image = cv2.cvtColor(image, cv2.COLOR_RGB2BGR) # COLOR COVERSION RGB 2 BGR\n",
    "    return image, results\n",
    "\n",
    "\n",
    "def draw_landmarks(image, results):\n",
    "    mp_drawing.draw_landmarks(image, results.face_landmarks, mp_holistic.FACE_CONNECTIONS) # Draw face connections\n",
    "    mp_drawing.draw_landmarks(image, results.pose_landmarks, mp_holistic.POSE_CONNECTIONS) # Draw pose connections\n",
    "    mp_drawing.draw_landmarks(image, results.left_hand_landmarks, mp_holistic.HAND_CONNECTIONS) # Draw left hand connections\n",
    "    mp_drawing.draw_landmarks(image, results.right_hand_landmarks, mp_holistic.HAND_CONNECTIONS) # Draw right hand connections\n",
    "    \n",
    "def draw_styled_landmarks(image, results):\n",
    "    # Draw face connections\n",
    "    mp_drawing.draw_landmarks(image, results.face_landmarks, mp_holistic.FACE_CONNECTIONS, \n",
    "                             mp_drawing.DrawingSpec(color=(80,110,10), thickness=1, circle_radius=1), \n",
    "                             mp_drawing.DrawingSpec(color=(80,256,121), thickness=1, circle_radius=1)\n",
    "                             ) \n",
    "    # Draw pose connections\n",
    "    mp_drawing.draw_landmarks(image, results.pose_landmarks, mp_holistic.POSE_CONNECTIONS,\n",
    "                             mp_drawing.DrawingSpec(color=(80,22,10), thickness=2, circle_radius=4), \n",
    "                             mp_drawing.DrawingSpec(color=(80,44,121), thickness=2, circle_radius=2)\n",
    "                             ) \n",
    "    # Draw left hand connections\n",
    "    mp_drawing.draw_landmarks(image, results.left_hand_landmarks, mp_holistic.HAND_CONNECTIONS, \n",
    "                             mp_drawing.DrawingSpec(color=(121,22,76), thickness=2, circle_radius=4), \n",
    "                             mp_drawing.DrawingSpec(color=(121,44,250), thickness=2, circle_radius=2)\n",
    "                             ) \n",
    "    # Draw right hand connections  \n",
    "    mp_drawing.draw_landmarks(image, results.right_hand_landmarks, mp_holistic.HAND_CONNECTIONS, \n",
    "                             mp_drawing.DrawingSpec(color=(245,117,66), thickness=2, circle_radius=4), \n",
    "                             mp_drawing.DrawingSpec(color=(245,66,230), thickness=2, circle_radius=2)\n",
    "                             ) \n",
    "    \n",
    "def extract_keypoints(results):\n",
    "    pose = np.array([[res.x, res.y, res.z, res.visibility] for res in results.pose_landmarks.landmark]).flatten() if results.pose_landmarks else np.zeros(33*4)\n",
    "    face = np.array([[res.x, res.y, res.z] for res in results.face_landmarks.landmark]).flatten() if results.face_landmarks else np.zeros(468*3)\n",
    "    lh = np.array([[res.x, res.y, res.z] for res in results.left_hand_landmarks.landmark]).flatten() if results.left_hand_landmarks else np.zeros(21*3)\n",
    "    rh = np.array([[res.x, res.y, res.z] for res in results.right_hand_landmarks.landmark]).flatten() if results.right_hand_landmarks else np.zeros(21*3)\n",
    "    return np.concatenate([pose, face, lh, rh])\n",
    "\n",
    "## 얘는 한 프레임에 pose, face, lh, rh 가 한 행에 다 flatten 되어있는 형태로 만들어짐."
   ]
  },
  {
   "cell_type": "markdown",
   "metadata": {},
   "source": [
    "# 2. Data Loading and Preprocessing"
   ]
  },
  {
   "cell_type": "code",
   "execution_count": 5,
   "metadata": {},
   "outputs": [
    {
     "name": "stdout",
     "output_type": "stream",
     "text": [
      "X shape is: (180, 29, 1662) \n",
      "y shape is: (180, 6)\n"
     ]
    }
   ],
   "source": [
    "# Setup for X, y\n",
    "\n",
    "# Actions that we try to detect\n",
    "actions = np.array(['sitting', 'standing','walking','running','kicking','punching'])\n",
    "\n",
    "# Data path\n",
    "DATA_PATH = os.path.join('../video_training') \n",
    "\n",
    "# y setting\n",
    "label_map = {label:num for num, label in enumerate(actions)}\n",
    "\n",
    "# X and y setting\n",
    "sequences, labels = [], []\n",
    "for action in actions:\n",
    "    for sequence in np.array(os.listdir(os.path.join(DATA_PATH, action))).astype(int):\n",
    "        window = []\n",
    "        for frame_num in range(1, 30):\n",
    "            res = np.load(os.path.join(DATA_PATH, action, str(sequence), \"{}.npy\".format(frame_num)))\n",
    "            window.append(res)\n",
    "        sequences.append(window)\n",
    "        labels.append(label_map[action])\n",
    "        \n",
    "X = np.array(sequences)\n",
    "y = to_categorical(labels).astype(int)\n",
    "\n",
    "# ??? 왜 해야하는지 모르겠다. 연산에서 사이즈 안맞아서 이렇게 했다.\n",
    "#X = X.swapaxes(1,2)\n",
    "print(\"X shape is: {} \\ny shape is: {}\".format(X.shape, y.shape))"
   ]
  },
  {
   "cell_type": "code",
   "execution_count": 225,
   "metadata": {},
   "outputs": [
    {
     "name": "stdout",
     "output_type": "stream",
     "text": [
      "train X shape: (162, 29, 1662) \ttest X shape: (18, 29, 1662)\n",
      "train y shape: (162, 6) \ttest y shape: (18, 6)\n"
     ]
    }
   ],
   "source": [
    "# train test split\n",
    "\n",
    "## x is (180, 1662, 29), 180 = 30 folders for 6 actions.\n",
    "## last 3 folders will become test data.\n",
    "\n",
    "train_dataset_x = X[0:27]\n",
    "train_dataset_y = y[0:27]\n",
    "\n",
    "test_dataset_x = X[27:30]\n",
    "test_dataset_y = y[27:30]\n",
    "\n",
    "for i in range(2,7):\n",
    "    train_dataset_x = np.concatenate((train_dataset_x, X[(i-1)*30:i*30-3]), axis = 0)\n",
    "    train_dataset_y = np.concatenate((train_dataset_y, y[(i-1)*30:i*30-3]), axis = 0)\n",
    "   \n",
    "    test_dataset_x = np.concatenate((test_dataset_x, X[i*30-3:i*30]), axis = 0)\n",
    "    test_dataset_y = np.concatenate((test_dataset_y, y[i*30-3:i*30]), axis = 0)\n",
    "\n",
    "print(\"train X shape: {} \\ttest X shape: {}\".format(train_dataset_x.shape, test_dataset_x.shape))\n",
    "print(\"train y shape: {} \\ttest y shape: {}\".format(train_dataset_y.shape, test_dataset_y.shape))"
   ]
  },
  {
   "cell_type": "code",
   "execution_count": 90,
   "metadata": {},
   "outputs": [
    {
     "data": {
      "text/plain": [
       "array([1, 0, 0, 0, 0, 0])"
      ]
     },
     "execution_count": 90,
     "metadata": {},
     "output_type": "execute_result"
    }
   ],
   "source": [
    "train_dataset_y[0]"
   ]
  },
  {
   "cell_type": "code",
   "execution_count": 34,
   "metadata": {},
   "outputs": [],
   "source": [
    "?nn.RNN"
   ]
  },
  {
   "cell_type": "code",
   "execution_count": 108,
   "metadata": {},
   "outputs": [
    {
     "name": "stdout",
     "output_type": "stream",
     "text": [
      "(48198,)\n",
      "(29, 1662)\n",
      "Input size:  torch.Size([1, 29, 1662])\n",
      "Output:  torch.Size([1, 29, 64])\n",
      "Hidden State:  torch.Size([2, 29, 64])\n",
      "After Linear, size: \n",
      " tensor([[[0.0344, 0.0331, 0.0350, 0.0352, 0.0342, 0.0327],\n",
      "         [0.0345, 0.0340, 0.0346, 0.0349, 0.0345, 0.0337],\n",
      "         [0.0345, 0.0344, 0.0344, 0.0347, 0.0345, 0.0343],\n",
      "         [0.0346, 0.0345, 0.0344, 0.0346, 0.0345, 0.0346],\n",
      "         [0.0346, 0.0346, 0.0344, 0.0346, 0.0345, 0.0347],\n",
      "         [0.0346, 0.0346, 0.0344, 0.0345, 0.0345, 0.0348],\n",
      "         [0.0346, 0.0346, 0.0344, 0.0345, 0.0345, 0.0348],\n",
      "         [0.0345, 0.0346, 0.0344, 0.0345, 0.0345, 0.0347],\n",
      "         [0.0345, 0.0346, 0.0345, 0.0345, 0.0345, 0.0347],\n",
      "         [0.0345, 0.0346, 0.0345, 0.0344, 0.0345, 0.0347],\n",
      "         [0.0345, 0.0346, 0.0345, 0.0344, 0.0345, 0.0347],\n",
      "         [0.0345, 0.0346, 0.0345, 0.0344, 0.0345, 0.0347],\n",
      "         [0.0345, 0.0346, 0.0345, 0.0344, 0.0345, 0.0347],\n",
      "         [0.0345, 0.0346, 0.0345, 0.0344, 0.0345, 0.0347],\n",
      "         [0.0345, 0.0346, 0.0345, 0.0344, 0.0345, 0.0347],\n",
      "         [0.0345, 0.0346, 0.0345, 0.0344, 0.0345, 0.0347],\n",
      "         [0.0345, 0.0346, 0.0345, 0.0344, 0.0345, 0.0347],\n",
      "         [0.0345, 0.0346, 0.0345, 0.0344, 0.0345, 0.0347],\n",
      "         [0.0345, 0.0346, 0.0345, 0.0344, 0.0345, 0.0347],\n",
      "         [0.0345, 0.0346, 0.0345, 0.0344, 0.0345, 0.0347],\n",
      "         [0.0345, 0.0347, 0.0345, 0.0344, 0.0345, 0.0347],\n",
      "         [0.0345, 0.0347, 0.0345, 0.0344, 0.0345, 0.0347],\n",
      "         [0.0345, 0.0347, 0.0344, 0.0344, 0.0345, 0.0347],\n",
      "         [0.0345, 0.0347, 0.0344, 0.0344, 0.0345, 0.0347],\n",
      "         [0.0345, 0.0346, 0.0344, 0.0344, 0.0346, 0.0347],\n",
      "         [0.0345, 0.0346, 0.0344, 0.0344, 0.0346, 0.0346],\n",
      "         [0.0344, 0.0345, 0.0343, 0.0345, 0.0346, 0.0344],\n",
      "         [0.0344, 0.0342, 0.0344, 0.0345, 0.0345, 0.0339],\n",
      "         [0.0343, 0.0334, 0.0346, 0.0346, 0.0342, 0.0329]]],\n",
      "       grad_fn=<SoftmaxBackward0>)\n",
      "After Linear, cut size: \n",
      " tensor([[0.1643, 0.1757, 0.1615, 0.1705, 0.1692, 0.1588]])\n"
     ]
    },
    {
     "name": "stderr",
     "output_type": "stream",
     "text": [
      "/home/ubuntu/Action_Recognition/Baby-Action-Recognition/mp_env/lib/python3.6/site-packages/ipykernel_launcher.py:44: UserWarning: To copy construct from a tensor, it is recommended to use sourceTensor.clone().detach() or sourceTensor.clone().detach().requires_grad_(True), rather than torch.tensor(sourceTensor).\n"
     ]
    }
   ],
   "source": [
    "## RNN output size test\n",
    "\n",
    "input_size = 1662  # 입력 데이터 특성 차원\n",
    "hidden_dim = 64 # hidden state 차원\n",
    "n_layers = 2    # stacking layer 개수\n",
    "\n",
    "rnn = nn.RNN(input_size, hidden_dim, n_layers, batch_first=False)\n",
    "\n",
    "# 20개의 시퀀스 생성\n",
    "seq_length = 29\n",
    "\n",
    "time_steps = np.linspace(0, np.pi, seq_length*input_size) # 0~pi까지 3번째 인자 수만큼 생성\n",
    "print(time_steps.shape)\n",
    "# (48198,)\n",
    "\n",
    "data = np.sin(time_steps)\n",
    "data.resize((seq_length, input_size))\n",
    "print(data.shape)\n",
    "# (29, 1662)\n",
    "\n",
    "# 배치 차원 추가(0번째)\n",
    "input_data = torch.Tensor(data).unsqueeze(0)\n",
    "print('Input size: ', input_data.size())\n",
    "# torch.Size([1, 29, 1662])\n",
    "\n",
    "output, hidden_state = rnn(input_data, None)\n",
    "\n",
    "# output shape: [batch_size, sequence_length, hidden_dim]\n",
    "print('Output: ', output.size()) # Output:  torch.Size([1, 29, 64])\n",
    "\n",
    "# hidden shape: [num_layers, batch_size, hidden_dim]\n",
    "print('Hidden State: ', hidden_state.size()) # Hidden State:  torch.Size([2, 1, 64])\n",
    "\n",
    "\n",
    "_fc = nn.Sequential(nn.Linear(hidden_size, 32), nn.Linear(32, 6), \n",
    "                                nn.Sigmoid(), nn.Softmax(dim=1))\n",
    "# soft max dim =2 를 하면 행 원소들의 합이 1이 된다. dim=1이면 열 원소의 합이 1이다.(2차원일 때)\n",
    "# 1차원이면 dim =1 이 행 원소의 합을 의미\n",
    "\n",
    "\n",
    "_out_trial = _fc(output)\n",
    "_out_trial_cut = torch.tensor(_fc(output[:, -1, :]), dtype=torch.float32)\n",
    "print('After Linear, size: \\n', _out_trial) # torch.Size([1, 29, 6])\n",
    "print('After Linear, cut size: \\n', _out_trial_cut) #  torch.Size([1, 6])\n",
    "\n",
    "# 나는 이것들의 평균을 내야하나, 아니면 1,6 으로 만드는 방법이 뭐가 있나, 모델이 틀렸나 고민계속했는데,,,\n",
    "# 각 동작에서의 확률인줄 알았는데 ...\n",
    "# (1662, 29) 였을 때도 그럼 그냥 마지막 거 해도 되는 거였음 ;;\n",
    "\n",
    "# 음, 근데 왜 내 BASEMODEL에서는 동작을 안하냐?\n",
    "\n",
    "# befor fc, out shape:  torch.Size([27, 29, 64])\n",
    "# inside of model, out shape:  torch.Size([27, 6]) 로 나오네... 27은 batch size인데.."
   ]
  },
  {
   "cell_type": "code",
   "execution_count": 96,
   "metadata": {},
   "outputs": [
    {
     "data": {
      "text/plain": [
       "tensor([3, 5, 5, 2, 3, 0, 1, 1, 5, 1, 4, 4, 1, 1, 2, 3, 2, 1, 3, 0, 1, 2, 2, 5,\n",
       "        5, 3, 5])"
      ]
     },
     "execution_count": 96,
     "metadata": {},
     "output_type": "execute_result"
    }
   ],
   "source": [
    "from torch.autograd import Variable\n",
    "classes_no = 6\n",
    "_ex_batch_size = 27\n",
    "_target = Variable(torch.LongTensor(_ex_batch_size).random_(0, classes_no))\n",
    "_target"
   ]
  },
  {
   "cell_type": "code",
   "execution_count": null,
   "metadata": {},
   "outputs": [],
   "source": [
    "\"\"\"\n",
    "구글링 :\n",
    "In the batch first mode (which is what you have), the output has this meaning:\n",
    "batch * seq_len * vector size\n",
    "So with a -1 in the middle dimension, you are extracting the very last output of time series output sequence of the RNN. This final output represents the summary of the entire sequence and that is what you want for a many to one scenario. The other :'s just means you want that last output for all batch and all input vectors.\n",
    "\n",
    "-> batch_first 모드에서는 rnn 아웃풋이 input seq_len을 따르게 하기 때문에, \n",
    "    out = self.fc(out[:, -1, :])\n",
    "와 같은 형태로 마지막 값만을 사용하는 것으로(== last time stamp) classification을 수행한다고 한다.\n",
    "\n",
    "그리고 아마,, batch_first=true 를 쓰지 않으면\n",
    "    # output shape: (seq_len, batch, hidden_size * num_directions):\n",
    "    x = output[-1] # this is batch * hidden_size for unidirectional LSTM / RNN\n",
    "과 같이 -1 만 하면 되는 듯.\n",
    "\n",
    "\"\"\""
   ]
  },
  {
   "cell_type": "code",
   "execution_count": 226,
   "metadata": {},
   "outputs": [],
   "source": [
    "\n",
    "from torch.utils.data import DataLoader\n",
    "#input_size = 29\n",
    "input_size = 1662\n",
    "batch_size = 27\n",
    "num_layers = 1\n",
    "hidden_size = 64\n",
    "output_size = actions.shape[0]\n",
    "\n",
    "# 아래를 왜 하는지 알아보자 추후에.\n",
    "train_dataset_x = torch.tensor(train_dataset_x, dtype=torch.float32)\n",
    "train_dataset_y = torch.tensor(train_dataset_y, dtype=torch.float32)\n",
    "\n",
    "test_dataset_x = torch.tensor(test_dataset_x, dtype=torch.float32)\n",
    "test_dataset_y = torch.tensor(test_dataset_y, dtype=torch.float32)\n",
    "\n",
    "train_dataset = torch.utils.data.TensorDataset(train_dataset_x, train_dataset_y)\n",
    "test_dataset = torch.utils.data.TensorDataset(test_dataset_x, test_dataset_y)\n",
    "\n",
    "train_dataloader = DataLoader(train_dataset, batch_size=batch_size, shuffle=False)\n",
    "test_dataloader = DataLoader(test_dataset, batch_size=batch_size, shuffle=False)\n",
    "\n",
    "\n",
    "\"\"\"\n",
    "    output, hidden_state = rnn(input, none)\n",
    "        # output shape: [batch_size, sequence_length, hidden_dim]\n",
    "        # Output:  torch.Size([1, 29, 64]) 이런 결과가 나온다. 흠. 맞는데.\n",
    "        \n",
    "            \n",
    "        # hidden shape: [num_layers, batch_size, hidden_dim]\n",
    "        print('Hidden State: ', hidden_state.size())\n",
    "        # Hidden State:  torch.Size([2, 1, 64])\n",
    "        \n",
    "        \n",
    "        # linear 까지 통과된 것의 모양을 (1, 1, 6)으로 하고싶은 것.\n",
    "\n",
    "\"\"\"\n",
    "\n",
    "class BaseModel(nn.Module):\n",
    "    def __init__(self):\n",
    "        super(BaseModel, self).__init__()\n",
    "        self.device = DEVICE\n",
    "        self.hidden_size = hidden_size\n",
    "        self.num_layers = num_layers\n",
    "        self.rnn = nn.RNN(input_size, hidden_size, num_layers, batch_first=True)\n",
    "        self.fc = nn.Sequential(nn.Linear(hidden_size, output_size), \n",
    "                                nn.Sigmoid(), nn.Softmax(dim=1))\n",
    "        # LSTM = input_size, hidden_size, num_layers, bias, batch_first, dropout, bidirectional\n",
    "        #self.LSTM_1 = nn.LSTM(29, 64, 1)\n",
    "        #self.fc = nn.Linear(64, actions.shape[0])\n",
    "        \n",
    "    def forward(self, x):\n",
    "        h0 = torch.zeros(self.num_layers, x.size()[0], self.hidden_size)# 초기 hidden state 설정하기.\n",
    "            # h0.shape # torch.Size([num_layer, batch_size, hidden_size])\n",
    "            # == (1, 27, 64)\n",
    "        out, _ = self.rnn(x, h0) # out: RNN의 마지막 레이어로부터 나온 output feature 를 반환한다. hn: hidden state를 반환한다.\n",
    "        #print(\"out's shape: {}\".format(out.shape))\n",
    "        #out = out.reshape(out.shape[0], -1) # many to many 전략\n",
    "        \n",
    "        \n",
    "        #print(\"befor fc, out shape: \", out.shape) # out shape:  torch.Size([27, 29, 64])\n",
    "        out = self.fc(out[:, -1, :])\n",
    "        #print(\"inside of model, out shape: \", out.shape) # out shape:  torch.Size([27, 6])\n",
    "        \n",
    "        return out\n",
    "\n",
    "model = BaseModel()"
   ]
  },
  {
   "cell_type": "markdown",
   "metadata": {},
   "source": [
    "# 3. DL model setting and training"
   ]
  },
  {
   "cell_type": "code",
   "execution_count": 227,
   "metadata": {},
   "outputs": [
    {
     "name": "stderr",
     "output_type": "stream",
     "text": [
      "100%|██████████| 6/6 [00:00<00:00, 85.58it/s]\n",
      "100%|██████████| 1/1 [00:00<00:00, 205.45it/s]\n"
     ]
    },
    {
     "name": "stdout",
     "output_type": "stream",
     "text": [
      "[epoch: 0] train loss: 1.7993\t valid loss: 1.7910\n"
     ]
    },
    {
     "name": "stderr",
     "output_type": "stream",
     "text": [
      "100%|██████████| 6/6 [00:00<00:00, 91.44it/s]\n",
      "100%|██████████| 1/1 [00:00<00:00, 93.55it/s]\n",
      "100%|██████████| 6/6 [00:00<00:00, 102.97it/s]\n",
      "100%|██████████| 1/1 [00:00<00:00, 223.10it/s]\n",
      "100%|██████████| 6/6 [00:00<00:00, 90.89it/s]\n",
      "100%|██████████| 1/1 [00:00<00:00, 231.45it/s]\n",
      "100%|██████████| 6/6 [00:00<00:00, 90.24it/s]\n",
      "100%|██████████| 1/1 [00:00<00:00, 119.75it/s]\n",
      "100%|██████████| 6/6 [00:00<00:00, 84.87it/s]\n",
      "100%|██████████| 1/1 [00:00<00:00, 204.24it/s]\n",
      "100%|██████████| 6/6 [00:00<00:00, 90.09it/s]\n",
      "100%|██████████| 1/1 [00:00<00:00, 216.63it/s]\n",
      "100%|██████████| 6/6 [00:00<00:00, 97.49it/s]\n",
      "100%|██████████| 1/1 [00:00<00:00, 186.14it/s]\n",
      "100%|██████████| 6/6 [00:00<00:00, 97.15it/s]\n",
      "100%|██████████| 1/1 [00:00<00:00, 233.02it/s]\n",
      "100%|██████████| 6/6 [00:00<00:00, 92.20it/s]\n",
      "100%|██████████| 1/1 [00:00<00:00, 224.68it/s]\n",
      "100%|██████████| 6/6 [00:00<00:00, 91.00it/s]\n",
      "100%|██████████| 1/1 [00:00<00:00, 179.83it/s]\n"
     ]
    },
    {
     "name": "stdout",
     "output_type": "stream",
     "text": [
      "[epoch: 10] train loss: 1.7877\t valid loss: 1.7892\n"
     ]
    },
    {
     "name": "stderr",
     "output_type": "stream",
     "text": [
      "100%|██████████| 6/6 [00:00<00:00, 93.05it/s]\n",
      "100%|██████████| 1/1 [00:00<00:00, 214.62it/s]\n",
      "100%|██████████| 6/6 [00:00<00:00, 97.79it/s]\n",
      "100%|██████████| 1/1 [00:00<00:00, 246.85it/s]\n",
      "100%|██████████| 6/6 [00:00<00:00, 92.21it/s]\n",
      "100%|██████████| 1/1 [00:00<00:00, 221.96it/s]\n",
      "100%|██████████| 6/6 [00:00<00:00, 93.77it/s]\n",
      "100%|██████████| 1/1 [00:00<00:00, 202.70it/s]\n",
      "100%|██████████| 6/6 [00:00<00:00, 90.41it/s]\n",
      "100%|██████████| 1/1 [00:00<00:00, 222.58it/s]\n",
      "100%|██████████| 6/6 [00:00<00:00, 89.30it/s]\n",
      "100%|██████████| 1/1 [00:00<00:00, 226.18it/s]\n",
      "100%|██████████| 6/6 [00:00<00:00, 70.25it/s]\n",
      "100%|██████████| 1/1 [00:00<00:00, 217.48it/s]\n",
      "100%|██████████| 6/6 [00:00<00:00, 79.00it/s]\n",
      "100%|██████████| 1/1 [00:00<00:00, 218.45it/s]\n",
      "100%|██████████| 6/6 [00:00<00:00, 87.62it/s]\n",
      "100%|██████████| 1/1 [00:00<00:00, 157.17it/s]\n",
      "100%|██████████| 6/6 [00:00<00:00, 72.64it/s]\n",
      "100%|██████████| 1/1 [00:00<00:00, 197.63it/s]\n"
     ]
    },
    {
     "name": "stdout",
     "output_type": "stream",
     "text": [
      "[epoch: 20] train loss: 1.7820\t valid loss: 1.7849\n"
     ]
    },
    {
     "name": "stderr",
     "output_type": "stream",
     "text": [
      "100%|██████████| 6/6 [00:00<00:00, 79.23it/s]\n",
      "100%|██████████| 1/1 [00:00<00:00, 194.98it/s]\n",
      "100%|██████████| 6/6 [00:00<00:00, 86.57it/s]\n",
      "100%|██████████| 1/1 [00:00<00:00, 161.47it/s]\n",
      "100%|██████████| 6/6 [00:00<00:00, 76.25it/s]\n",
      "100%|██████████| 1/1 [00:00<00:00, 128.57it/s]\n",
      "100%|██████████| 6/6 [00:00<00:00, 75.78it/s]\n",
      "100%|██████████| 1/1 [00:00<00:00, 148.97it/s]\n",
      "100%|██████████| 6/6 [00:00<00:00, 91.54it/s]\n",
      "100%|██████████| 1/1 [00:00<00:00, 199.10it/s]\n",
      "100%|██████████| 6/6 [00:00<00:00, 91.21it/s]\n",
      "100%|██████████| 1/1 [00:00<00:00, 233.94it/s]\n",
      "100%|██████████| 6/6 [00:00<00:00, 76.28it/s]\n",
      "100%|██████████| 1/1 [00:00<00:00, 175.24it/s]\n",
      "100%|██████████| 6/6 [00:00<00:00, 85.69it/s]\n",
      "100%|██████████| 1/1 [00:00<00:00, 229.35it/s]\n",
      "100%|██████████| 6/6 [00:00<00:00, 99.52it/s]\n",
      "100%|██████████| 1/1 [00:00<00:00, 194.49it/s]\n",
      "100%|██████████| 6/6 [00:00<00:00, 88.40it/s]\n",
      "100%|██████████| 1/1 [00:00<00:00, 236.91it/s]\n"
     ]
    },
    {
     "name": "stdout",
     "output_type": "stream",
     "text": [
      "[epoch: 30] train loss: 1.7665\t valid loss: 1.7677\n"
     ]
    },
    {
     "name": "stderr",
     "output_type": "stream",
     "text": [
      "100%|██████████| 6/6 [00:00<00:00, 92.77it/s]\n",
      "100%|██████████| 1/1 [00:00<00:00, 216.06it/s]\n",
      "100%|██████████| 6/6 [00:00<00:00, 94.55it/s]\n",
      "100%|██████████| 1/1 [00:00<00:00, 167.60it/s]\n",
      "100%|██████████| 6/6 [00:00<00:00, 92.40it/s]\n",
      "100%|██████████| 1/1 [00:00<00:00, 209.38it/s]\n",
      "100%|██████████| 6/6 [00:00<00:00, 91.06it/s]\n",
      "100%|██████████| 1/1 [00:00<00:00, 235.21it/s]\n",
      "100%|██████████| 6/6 [00:00<00:00, 91.51it/s]\n",
      "100%|██████████| 1/1 [00:00<00:00, 274.86it/s]\n",
      "100%|██████████| 6/6 [00:00<00:00, 89.34it/s]\n",
      "100%|██████████| 1/1 [00:00<00:00, 209.86it/s]\n",
      "100%|██████████| 6/6 [00:00<00:00, 86.82it/s]\n",
      "100%|██████████| 1/1 [00:00<00:00, 192.86it/s]\n",
      "100%|██████████| 6/6 [00:00<00:00, 91.11it/s]\n",
      "100%|██████████| 1/1 [00:00<00:00, 271.60it/s]\n",
      "100%|██████████| 6/6 [00:00<00:00, 91.85it/s]\n",
      "100%|██████████| 1/1 [00:00<00:00, 222.03it/s]\n",
      "100%|██████████| 6/6 [00:00<00:00, 91.06it/s]\n",
      "100%|██████████| 1/1 [00:00<00:00, 210.92it/s]\n"
     ]
    },
    {
     "name": "stdout",
     "output_type": "stream",
     "text": [
      "[epoch: 40] train loss: 1.7594\t valid loss: 1.7620\n"
     ]
    },
    {
     "name": "stderr",
     "output_type": "stream",
     "text": [
      "100%|██████████| 6/6 [00:00<00:00, 85.18it/s]\n",
      "100%|██████████| 1/1 [00:00<00:00, 236.39it/s]\n",
      "100%|██████████| 6/6 [00:00<00:00, 93.05it/s]\n",
      "100%|██████████| 1/1 [00:00<00:00, 201.47it/s]\n",
      "100%|██████████| 6/6 [00:00<00:00, 92.07it/s]\n",
      "100%|██████████| 1/1 [00:00<00:00, 170.22it/s]\n",
      "100%|██████████| 6/6 [00:00<00:00, 88.52it/s]\n",
      "100%|██████████| 1/1 [00:00<00:00, 234.37it/s]\n",
      "100%|██████████| 6/6 [00:00<00:00, 91.89it/s]\n",
      "100%|██████████| 1/1 [00:00<00:00, 231.22it/s]\n",
      "100%|██████████| 6/6 [00:00<00:00, 89.83it/s]\n",
      "100%|██████████| 1/1 [00:00<00:00, 235.40it/s]\n",
      "100%|██████████| 6/6 [00:00<00:00, 92.63it/s]\n",
      "100%|██████████| 1/1 [00:00<00:00, 207.83it/s]\n",
      "100%|██████████| 6/6 [00:00<00:00, 92.90it/s]\n",
      "100%|██████████| 1/1 [00:00<00:00, 218.75it/s]\n",
      "100%|██████████| 6/6 [00:00<00:00, 89.21it/s]\n",
      "100%|██████████| 1/1 [00:00<00:00, 226.51it/s]\n",
      "100%|██████████| 6/6 [00:00<00:00, 94.66it/s]\n",
      "100%|██████████| 1/1 [00:00<00:00, 221.65it/s]\n"
     ]
    },
    {
     "name": "stdout",
     "output_type": "stream",
     "text": [
      "[epoch: 50] train loss: 1.7545\t valid loss: 1.7568\n"
     ]
    },
    {
     "name": "stderr",
     "output_type": "stream",
     "text": [
      "100%|██████████| 6/6 [00:00<00:00, 91.57it/s]\n",
      "100%|██████████| 1/1 [00:00<00:00, 226.49it/s]\n",
      "100%|██████████| 6/6 [00:00<00:00, 92.68it/s]\n",
      "100%|██████████| 1/1 [00:00<00:00, 247.95it/s]\n",
      "100%|██████████| 6/6 [00:00<00:00, 93.70it/s]\n",
      "100%|██████████| 1/1 [00:00<00:00, 174.65it/s]\n",
      "100%|██████████| 6/6 [00:00<00:00, 90.09it/s]\n",
      "100%|██████████| 1/1 [00:00<00:00, 207.36it/s]\n",
      "100%|██████████| 6/6 [00:00<00:00, 89.07it/s]\n",
      "100%|██████████| 1/1 [00:00<00:00, 165.24it/s]\n",
      "100%|██████████| 6/6 [00:00<00:00, 97.88it/s]\n",
      "100%|██████████| 1/1 [00:00<00:00, 188.27it/s]\n",
      "100%|██████████| 6/6 [00:00<00:00, 90.53it/s]\n",
      "100%|██████████| 1/1 [00:00<00:00, 193.28it/s]\n",
      "100%|██████████| 6/6 [00:00<00:00, 90.28it/s]\n",
      "100%|██████████| 1/1 [00:00<00:00, 243.46it/s]\n",
      "100%|██████████| 6/6 [00:00<00:00, 99.86it/s]\n",
      "100%|██████████| 1/1 [00:00<00:00, 250.54it/s]\n",
      "100%|██████████| 6/6 [00:00<00:00, 104.01it/s]\n",
      "100%|██████████| 1/1 [00:00<00:00, 261.88it/s]\n"
     ]
    },
    {
     "name": "stdout",
     "output_type": "stream",
     "text": [
      "[epoch: 60] train loss: 1.7499\t valid loss: 1.7509\n"
     ]
    },
    {
     "name": "stderr",
     "output_type": "stream",
     "text": [
      "100%|██████████| 6/6 [00:00<00:00, 93.52it/s]\n",
      "100%|██████████| 1/1 [00:00<00:00, 202.54it/s]\n",
      "100%|██████████| 6/6 [00:00<00:00, 93.03it/s]\n",
      "100%|██████████| 1/1 [00:00<00:00, 212.80it/s]\n",
      "100%|██████████| 6/6 [00:00<00:00, 102.67it/s]\n",
      "100%|██████████| 1/1 [00:00<00:00, 217.91it/s]\n",
      "100%|██████████| 6/6 [00:00<00:00, 102.43it/s]\n",
      "100%|██████████| 1/1 [00:00<00:00, 267.72it/s]\n",
      "100%|██████████| 6/6 [00:00<00:00, 97.57it/s]\n",
      "100%|██████████| 1/1 [00:00<00:00, 219.63it/s]\n",
      "100%|██████████| 6/6 [00:00<00:00, 96.33it/s]\n",
      "100%|██████████| 1/1 [00:00<00:00, 227.41it/s]\n",
      "100%|██████████| 6/6 [00:00<00:00, 96.49it/s]\n",
      "100%|██████████| 1/1 [00:00<00:00, 210.24it/s]\n",
      "100%|██████████| 6/6 [00:00<00:00, 87.89it/s]\n",
      "100%|██████████| 1/1 [00:00<00:00, 201.64it/s]\n",
      "100%|██████████| 6/6 [00:00<00:00, 96.01it/s]\n",
      "100%|██████████| 1/1 [00:00<00:00, 234.61it/s]\n",
      "100%|██████████| 6/6 [00:00<00:00, 93.05it/s]\n",
      "100%|██████████| 1/1 [00:00<00:00, 214.26it/s]\n"
     ]
    },
    {
     "name": "stdout",
     "output_type": "stream",
     "text": [
      "[epoch: 70] train loss: 1.7467\t valid loss: 1.7474\n"
     ]
    },
    {
     "name": "stderr",
     "output_type": "stream",
     "text": [
      "100%|██████████| 6/6 [00:00<00:00, 87.84it/s]\n",
      "100%|██████████| 1/1 [00:00<00:00, 168.94it/s]\n",
      "100%|██████████| 6/6 [00:00<00:00, 83.37it/s]\n",
      "100%|██████████| 1/1 [00:00<00:00, 217.34it/s]\n",
      "100%|██████████| 6/6 [00:00<00:00, 91.33it/s]\n",
      "100%|██████████| 1/1 [00:00<00:00, 223.45it/s]\n",
      "100%|██████████| 6/6 [00:00<00:00, 94.34it/s]\n",
      "100%|██████████| 1/1 [00:00<00:00, 182.42it/s]\n",
      "100%|██████████| 6/6 [00:00<00:00, 95.60it/s]\n",
      "100%|██████████| 1/1 [00:00<00:00, 255.52it/s]\n",
      "100%|██████████| 6/6 [00:00<00:00, 100.29it/s]\n",
      "100%|██████████| 1/1 [00:00<00:00, 226.34it/s]\n",
      "100%|██████████| 6/6 [00:00<00:00, 93.49it/s]\n",
      "100%|██████████| 1/1 [00:00<00:00, 161.40it/s]\n",
      "100%|██████████| 6/6 [00:00<00:00, 96.88it/s]\n",
      "100%|██████████| 1/1 [00:00<00:00, 195.15it/s]\n",
      "100%|██████████| 6/6 [00:00<00:00, 48.94it/s]\n",
      "100%|██████████| 1/1 [00:00<00:00, 225.68it/s]\n",
      "100%|██████████| 6/6 [00:00<00:00, 100.13it/s]\n",
      "100%|██████████| 1/1 [00:00<00:00, 233.61it/s]\n"
     ]
    },
    {
     "name": "stdout",
     "output_type": "stream",
     "text": [
      "[epoch: 80] train loss: 1.7430\t valid loss: 1.7433\n"
     ]
    },
    {
     "name": "stderr",
     "output_type": "stream",
     "text": [
      "100%|██████████| 6/6 [00:00<00:00, 104.62it/s]\n",
      "100%|██████████| 1/1 [00:00<00:00, 202.28it/s]\n",
      "100%|██████████| 6/6 [00:00<00:00, 89.71it/s]\n",
      "100%|██████████| 1/1 [00:00<00:00, 173.92it/s]\n",
      "100%|██████████| 6/6 [00:00<00:00, 74.60it/s]\n",
      "100%|██████████| 1/1 [00:00<00:00, 161.85it/s]\n",
      "100%|██████████| 6/6 [00:00<00:00, 78.94it/s]\n",
      "100%|██████████| 1/1 [00:00<00:00, 205.71it/s]\n",
      "100%|██████████| 6/6 [00:00<00:00, 91.78it/s]\n",
      "100%|██████████| 1/1 [00:00<00:00, 221.86it/s]\n",
      "100%|██████████| 6/6 [00:00<00:00, 84.71it/s]\n",
      "100%|██████████| 1/1 [00:00<00:00, 231.92it/s]\n",
      "100%|██████████| 6/6 [00:00<00:00, 88.52it/s]\n",
      "100%|██████████| 1/1 [00:00<00:00, 238.29it/s]\n",
      "100%|██████████| 6/6 [00:00<00:00, 83.89it/s]\n",
      "100%|██████████| 1/1 [00:00<00:00, 243.12it/s]\n",
      "100%|██████████| 6/6 [00:00<00:00, 83.44it/s]\n",
      "100%|██████████| 1/1 [00:00<00:00, 234.79it/s]\n",
      "100%|██████████| 6/6 [00:00<00:00, 94.46it/s]\n",
      "100%|██████████| 1/1 [00:00<00:00, 197.06it/s]\n"
     ]
    },
    {
     "name": "stdout",
     "output_type": "stream",
     "text": [
      "[epoch: 90] train loss: 1.7386\t valid loss: 1.7389\n"
     ]
    },
    {
     "name": "stderr",
     "output_type": "stream",
     "text": [
      "100%|██████████| 6/6 [00:00<00:00, 93.45it/s]\n",
      "100%|██████████| 1/1 [00:00<00:00, 218.45it/s]\n",
      "100%|██████████| 6/6 [00:00<00:00, 93.39it/s]\n",
      "100%|██████████| 1/1 [00:00<00:00, 252.49it/s]\n",
      "100%|██████████| 6/6 [00:00<00:00, 79.69it/s]\n",
      "100%|██████████| 1/1 [00:00<00:00, 155.10it/s]\n",
      "100%|██████████| 6/6 [00:00<00:00, 96.57it/s]\n",
      "100%|██████████| 1/1 [00:00<00:00, 224.69it/s]\n",
      "100%|██████████| 6/6 [00:00<00:00, 93.80it/s]\n",
      "100%|██████████| 1/1 [00:00<00:00, 222.96it/s]\n",
      "100%|██████████| 6/6 [00:00<00:00, 51.55it/s]\n",
      "100%|██████████| 1/1 [00:00<00:00, 170.02it/s]\n",
      "100%|██████████| 6/6 [00:00<00:00, 82.85it/s]\n",
      "100%|██████████| 1/1 [00:00<00:00, 168.89it/s]\n",
      "100%|██████████| 6/6 [00:00<00:00, 88.66it/s]\n",
      "100%|██████████| 1/1 [00:00<00:00, 180.94it/s]\n",
      "100%|██████████| 6/6 [00:00<00:00, 81.76it/s]\n",
      "100%|██████████| 1/1 [00:00<00:00, 214.32it/s]\n",
      "100%|██████████| 6/6 [00:00<00:00, 89.11it/s]\n",
      "100%|██████████| 1/1 [00:00<00:00, 201.28it/s]\n"
     ]
    },
    {
     "name": "stdout",
     "output_type": "stream",
     "text": [
      "[epoch: 100] train loss: 1.7361\t valid loss: 1.7374\n"
     ]
    },
    {
     "name": "stderr",
     "output_type": "stream",
     "text": [
      "100%|██████████| 6/6 [00:00<00:00, 85.42it/s]\n",
      "100%|██████████| 1/1 [00:00<00:00, 222.50it/s]\n",
      "100%|██████████| 6/6 [00:00<00:00, 86.15it/s]\n",
      "100%|██████████| 1/1 [00:00<00:00, 232.40it/s]\n",
      "100%|██████████| 6/6 [00:00<00:00, 91.35it/s]\n",
      "100%|██████████| 1/1 [00:00<00:00, 201.65it/s]\n",
      "100%|██████████| 6/6 [00:00<00:00, 93.23it/s]\n",
      "100%|██████████| 1/1 [00:00<00:00, 200.18it/s]\n",
      "100%|██████████| 6/6 [00:00<00:00, 99.00it/s]\n",
      "100%|██████████| 1/1 [00:00<00:00, 220.72it/s]\n",
      "100%|██████████| 6/6 [00:00<00:00, 99.73it/s]\n",
      "100%|██████████| 1/1 [00:00<00:00, 183.32it/s]\n",
      "100%|██████████| 6/6 [00:00<00:00, 96.43it/s]\n",
      "100%|██████████| 1/1 [00:00<00:00, 223.18it/s]\n",
      "100%|██████████| 6/6 [00:00<00:00, 97.42it/s]\n",
      "100%|██████████| 1/1 [00:00<00:00, 249.25it/s]\n",
      "100%|██████████| 6/6 [00:00<00:00, 100.43it/s]\n",
      "100%|██████████| 1/1 [00:00<00:00, 242.12it/s]\n",
      "100%|██████████| 6/6 [00:00<00:00, 89.58it/s]\n",
      "100%|██████████| 1/1 [00:00<00:00, 228.51it/s]\n"
     ]
    },
    {
     "name": "stdout",
     "output_type": "stream",
     "text": [
      "[epoch: 110] train loss: 1.7341\t valid loss: 1.7360\n"
     ]
    },
    {
     "name": "stderr",
     "output_type": "stream",
     "text": [
      "100%|██████████| 6/6 [00:00<00:00, 97.81it/s]\n",
      "100%|██████████| 1/1 [00:00<00:00, 231.47it/s]\n",
      "100%|██████████| 6/6 [00:00<00:00, 103.47it/s]\n",
      "100%|██████████| 1/1 [00:00<00:00, 233.13it/s]\n",
      "100%|██████████| 6/6 [00:00<00:00, 94.51it/s]\n",
      "100%|██████████| 1/1 [00:00<00:00, 234.24it/s]\n",
      "100%|██████████| 6/6 [00:00<00:00, 91.85it/s]\n",
      "100%|██████████| 1/1 [00:00<00:00, 210.10it/s]\n",
      "100%|██████████| 6/6 [00:00<00:00, 92.62it/s]\n",
      "100%|██████████| 1/1 [00:00<00:00, 244.14it/s]\n",
      "100%|██████████| 6/6 [00:00<00:00, 96.02it/s]\n",
      "100%|██████████| 1/1 [00:00<00:00, 218.34it/s]\n",
      "100%|██████████| 6/6 [00:00<00:00, 95.62it/s]\n",
      "100%|██████████| 1/1 [00:00<00:00, 182.89it/s]\n",
      "100%|██████████| 6/6 [00:00<00:00, 95.41it/s]\n",
      "100%|██████████| 1/1 [00:00<00:00, 187.33it/s]\n",
      "100%|██████████| 6/6 [00:00<00:00, 100.83it/s]\n",
      "100%|██████████| 1/1 [00:00<00:00, 253.95it/s]\n",
      "100%|██████████| 6/6 [00:00<00:00, 93.31it/s]\n",
      "100%|██████████| 1/1 [00:00<00:00, 205.44it/s]\n"
     ]
    },
    {
     "name": "stdout",
     "output_type": "stream",
     "text": [
      "[epoch: 120] train loss: 1.7324\t valid loss: 1.7349\n"
     ]
    },
    {
     "name": "stderr",
     "output_type": "stream",
     "text": [
      "100%|██████████| 6/6 [00:00<00:00, 97.70it/s]\n",
      "100%|██████████| 1/1 [00:00<00:00, 226.77it/s]\n",
      "100%|██████████| 6/6 [00:00<00:00, 97.72it/s]\n",
      "100%|██████████| 1/1 [00:00<00:00, 159.07it/s]\n",
      "100%|██████████| 6/6 [00:00<00:00, 84.46it/s]\n",
      "100%|██████████| 1/1 [00:00<00:00, 230.77it/s]\n",
      "100%|██████████| 6/6 [00:00<00:00, 81.33it/s]\n",
      "100%|██████████| 1/1 [00:00<00:00, 155.63it/s]\n",
      "100%|██████████| 6/6 [00:00<00:00, 87.69it/s]\n",
      "100%|██████████| 1/1 [00:00<00:00, 218.25it/s]\n",
      "100%|██████████| 6/6 [00:00<00:00, 78.55it/s]\n",
      "100%|██████████| 1/1 [00:00<00:00, 184.50it/s]\n",
      "100%|██████████| 6/6 [00:00<00:00, 101.77it/s]\n",
      "100%|██████████| 1/1 [00:00<00:00, 156.49it/s]\n",
      "100%|██████████| 6/6 [00:00<00:00, 61.40it/s]\n",
      "100%|██████████| 1/1 [00:00<00:00, 240.26it/s]\n",
      "100%|██████████| 6/6 [00:00<00:00, 86.09it/s]\n",
      "100%|██████████| 1/1 [00:00<00:00, 170.97it/s]\n",
      "100%|██████████| 6/6 [00:00<00:00, 88.81it/s]\n",
      "100%|██████████| 1/1 [00:00<00:00, 95.57it/s]\n"
     ]
    },
    {
     "name": "stdout",
     "output_type": "stream",
     "text": [
      "[epoch: 130] train loss: 1.7306\t valid loss: 1.7353\n"
     ]
    },
    {
     "name": "stderr",
     "output_type": "stream",
     "text": [
      "100%|██████████| 6/6 [00:00<00:00, 95.81it/s]\n",
      "100%|██████████| 1/1 [00:00<00:00, 238.26it/s]\n",
      "100%|██████████| 6/6 [00:00<00:00, 99.24it/s]\n",
      "100%|██████████| 1/1 [00:00<00:00, 204.21it/s]\n",
      "100%|██████████| 6/6 [00:00<00:00, 98.46it/s]\n",
      "100%|██████████| 1/1 [00:00<00:00, 254.42it/s]\n",
      "100%|██████████| 6/6 [00:00<00:00, 103.41it/s]\n",
      "100%|██████████| 1/1 [00:00<00:00, 240.83it/s]\n",
      "100%|██████████| 6/6 [00:00<00:00, 99.63it/s]\n",
      "100%|██████████| 1/1 [00:00<00:00, 190.22it/s]\n",
      "100%|██████████| 6/6 [00:00<00:00, 94.29it/s]\n",
      "100%|██████████| 1/1 [00:00<00:00, 244.35it/s]\n",
      "100%|██████████| 6/6 [00:00<00:00, 89.23it/s]\n",
      "100%|██████████| 1/1 [00:00<00:00, 200.59it/s]\n",
      "100%|██████████| 6/6 [00:00<00:00, 88.81it/s]\n",
      "100%|██████████| 1/1 [00:00<00:00, 192.28it/s]\n",
      "100%|██████████| 6/6 [00:00<00:00, 44.16it/s]\n",
      "100%|██████████| 1/1 [00:00<00:00, 208.91it/s]\n",
      "100%|██████████| 6/6 [00:00<00:00, 73.41it/s]\n",
      "100%|██████████| 1/1 [00:00<00:00, 119.38it/s]\n"
     ]
    },
    {
     "name": "stdout",
     "output_type": "stream",
     "text": [
      "[epoch: 140] train loss: 1.7296\t valid loss: 1.7345\n"
     ]
    },
    {
     "name": "stderr",
     "output_type": "stream",
     "text": [
      "100%|██████████| 6/6 [00:00<00:00, 95.66it/s]\n",
      "100%|██████████| 1/1 [00:00<00:00, 249.69it/s]\n",
      "100%|██████████| 6/6 [00:00<00:00, 96.77it/s]\n",
      "100%|██████████| 1/1 [00:00<00:00, 216.11it/s]\n",
      "100%|██████████| 6/6 [00:00<00:00, 90.35it/s]\n",
      "100%|██████████| 1/1 [00:00<00:00, 213.80it/s]\n",
      "100%|██████████| 6/6 [00:00<00:00, 52.86it/s]\n",
      "100%|██████████| 1/1 [00:00<00:00, 185.61it/s]\n",
      "100%|██████████| 6/6 [00:00<00:00, 98.19it/s]\n",
      "100%|██████████| 1/1 [00:00<00:00, 232.94it/s]\n",
      "100%|██████████| 6/6 [00:00<00:00, 114.86it/s]\n",
      "100%|██████████| 1/1 [00:00<00:00, 268.08it/s]\n",
      "100%|██████████| 6/6 [00:00<00:00, 96.72it/s]\n",
      "100%|██████████| 1/1 [00:00<00:00, 155.01it/s]\n",
      "100%|██████████| 6/6 [00:00<00:00, 97.84it/s]\n",
      "100%|██████████| 1/1 [00:00<00:00, 192.81it/s]\n",
      "100%|██████████| 6/6 [00:00<00:00, 94.94it/s]\n",
      "100%|██████████| 1/1 [00:00<00:00, 140.95it/s]\n",
      "100%|██████████| 6/6 [00:00<00:00, 95.68it/s]\n",
      "100%|██████████| 1/1 [00:00<00:00, 222.16it/s]\n"
     ]
    },
    {
     "name": "stdout",
     "output_type": "stream",
     "text": [
      "[epoch: 150] train loss: 1.7286\t valid loss: 1.7340\n"
     ]
    },
    {
     "name": "stderr",
     "output_type": "stream",
     "text": [
      "100%|██████████| 6/6 [00:00<00:00, 51.56it/s]\n",
      "100%|██████████| 1/1 [00:00<00:00, 178.65it/s]\n",
      "100%|██████████| 6/6 [00:00<00:00, 99.34it/s]\n",
      "100%|██████████| 1/1 [00:00<00:00, 248.82it/s]\n",
      "100%|██████████| 6/6 [00:00<00:00, 104.00it/s]\n",
      "100%|██████████| 1/1 [00:00<00:00, 219.01it/s]\n",
      "100%|██████████| 6/6 [00:00<00:00, 102.35it/s]\n",
      "100%|██████████| 1/1 [00:00<00:00, 253.16it/s]\n",
      "100%|██████████| 6/6 [00:00<00:00, 105.73it/s]\n",
      "100%|██████████| 1/1 [00:00<00:00, 198.14it/s]\n",
      "100%|██████████| 6/6 [00:00<00:00, 95.99it/s]\n",
      "100%|██████████| 1/1 [00:00<00:00, 161.99it/s]\n",
      "100%|██████████| 6/6 [00:00<00:00, 104.02it/s]\n",
      "100%|██████████| 1/1 [00:00<00:00, 216.26it/s]\n",
      "100%|██████████| 6/6 [00:00<00:00, 104.51it/s]\n",
      "100%|██████████| 1/1 [00:00<00:00, 214.44it/s]\n",
      "100%|██████████| 6/6 [00:00<00:00, 104.69it/s]\n",
      "100%|██████████| 1/1 [00:00<00:00, 228.12it/s]\n",
      "100%|██████████| 6/6 [00:00<00:00, 97.32it/s]\n",
      "100%|██████████| 1/1 [00:00<00:00, 210.27it/s]\n"
     ]
    },
    {
     "name": "stdout",
     "output_type": "stream",
     "text": [
      "[epoch: 160] train loss: 1.7281\t valid loss: 1.7339\n"
     ]
    },
    {
     "name": "stderr",
     "output_type": "stream",
     "text": [
      "100%|██████████| 6/6 [00:00<00:00, 95.91it/s]\n",
      "100%|██████████| 1/1 [00:00<00:00, 225.59it/s]\n",
      "100%|██████████| 6/6 [00:00<00:00, 95.10it/s]\n",
      "100%|██████████| 1/1 [00:00<00:00, 188.49it/s]\n",
      "100%|██████████| 6/6 [00:00<00:00, 103.73it/s]\n",
      "100%|██████████| 1/1 [00:00<00:00, 251.50it/s]\n",
      "100%|██████████| 6/6 [00:00<00:00, 105.07it/s]\n",
      "100%|██████████| 1/1 [00:00<00:00, 211.52it/s]\n",
      "100%|██████████| 6/6 [00:00<00:00, 105.98it/s]\n",
      "100%|██████████| 1/1 [00:00<00:00, 203.78it/s]\n",
      "100%|██████████| 6/6 [00:00<00:00, 87.60it/s]\n",
      "100%|██████████| 1/1 [00:00<00:00, 178.71it/s]\n",
      "100%|██████████| 6/6 [00:00<00:00, 80.70it/s]\n",
      "100%|██████████| 1/1 [00:00<00:00, 214.14it/s]\n",
      "100%|██████████| 6/6 [00:00<00:00, 88.12it/s]\n",
      "100%|██████████| 1/1 [00:00<00:00, 255.55it/s]\n",
      "100%|██████████| 6/6 [00:00<00:00, 84.75it/s]\n",
      "100%|██████████| 1/1 [00:00<00:00, 154.02it/s]\n",
      "100%|██████████| 6/6 [00:00<00:00, 81.82it/s]\n",
      "100%|██████████| 1/1 [00:00<00:00, 198.90it/s]\n"
     ]
    },
    {
     "name": "stdout",
     "output_type": "stream",
     "text": [
      "[epoch: 170] train loss: 1.7277\t valid loss: 1.7336\n"
     ]
    },
    {
     "name": "stderr",
     "output_type": "stream",
     "text": [
      "100%|██████████| 6/6 [00:00<00:00, 83.00it/s]\n",
      "100%|██████████| 1/1 [00:00<00:00, 181.32it/s]\n",
      "100%|██████████| 6/6 [00:00<00:00, 82.50it/s]\n",
      "100%|██████████| 1/1 [00:00<00:00, 112.86it/s]\n",
      "100%|██████████| 6/6 [00:00<00:00, 88.27it/s]\n",
      "100%|██████████| 1/1 [00:00<00:00, 207.31it/s]\n",
      "100%|██████████| 6/6 [00:00<00:00, 86.96it/s]\n",
      "100%|██████████| 1/1 [00:00<00:00, 123.33it/s]\n",
      "100%|██████████| 6/6 [00:00<00:00, 99.42it/s]\n",
      "100%|██████████| 1/1 [00:00<00:00, 243.84it/s]\n",
      "100%|██████████| 6/6 [00:00<00:00, 92.23it/s]\n",
      "100%|██████████| 1/1 [00:00<00:00, 233.19it/s]\n",
      "100%|██████████| 6/6 [00:00<00:00, 92.97it/s]\n",
      "100%|██████████| 1/1 [00:00<00:00, 184.50it/s]\n",
      "100%|██████████| 6/6 [00:00<00:00, 87.39it/s]\n",
      "100%|██████████| 1/1 [00:00<00:00, 235.70it/s]\n",
      "100%|██████████| 6/6 [00:00<00:00, 93.41it/s]\n",
      "100%|██████████| 1/1 [00:00<00:00, 183.33it/s]\n",
      "100%|██████████| 6/6 [00:00<00:00, 92.73it/s]\n",
      "100%|██████████| 1/1 [00:00<00:00, 192.21it/s]\n"
     ]
    },
    {
     "name": "stdout",
     "output_type": "stream",
     "text": [
      "[epoch: 180] train loss: 1.7273\t valid loss: 1.7334\n"
     ]
    },
    {
     "name": "stderr",
     "output_type": "stream",
     "text": [
      "100%|██████████| 6/6 [00:00<00:00, 81.51it/s]\n",
      "100%|██████████| 1/1 [00:00<00:00, 202.80it/s]\n",
      "100%|██████████| 6/6 [00:00<00:00, 91.85it/s]\n",
      "100%|██████████| 1/1 [00:00<00:00, 243.02it/s]\n",
      "100%|██████████| 6/6 [00:00<00:00, 98.21it/s]\n",
      "100%|██████████| 1/1 [00:00<00:00, 243.95it/s]\n",
      "100%|██████████| 6/6 [00:00<00:00, 88.31it/s]\n",
      "100%|██████████| 1/1 [00:00<00:00, 229.71it/s]\n",
      "100%|██████████| 6/6 [00:00<00:00, 87.87it/s]\n",
      "100%|██████████| 1/1 [00:00<00:00, 198.60it/s]\n",
      "100%|██████████| 6/6 [00:00<00:00, 94.72it/s]\n",
      "100%|██████████| 1/1 [00:00<00:00, 213.10it/s]\n",
      "100%|██████████| 6/6 [00:00<00:00, 92.39it/s]\n",
      "100%|██████████| 1/1 [00:00<00:00, 227.24it/s]\n",
      "100%|██████████| 6/6 [00:00<00:00, 90.17it/s]\n",
      "100%|██████████| 1/1 [00:00<00:00, 251.05it/s]\n",
      "100%|██████████| 6/6 [00:00<00:00, 83.51it/s]\n",
      "100%|██████████| 1/1 [00:00<00:00, 165.38it/s]\n",
      "100%|██████████| 6/6 [00:00<00:00, 98.71it/s]\n",
      "100%|██████████| 1/1 [00:00<00:00, 200.24it/s]\n"
     ]
    },
    {
     "name": "stdout",
     "output_type": "stream",
     "text": [
      "[epoch: 190] train loss: 1.7271\t valid loss: 1.7333\n"
     ]
    },
    {
     "name": "stderr",
     "output_type": "stream",
     "text": [
      "100%|██████████| 6/6 [00:00<00:00, 82.82it/s]\n",
      "100%|██████████| 1/1 [00:00<00:00, 222.39it/s]\n",
      "100%|██████████| 6/6 [00:00<00:00, 95.59it/s]\n",
      "100%|██████████| 1/1 [00:00<00:00, 186.94it/s]\n",
      "100%|██████████| 6/6 [00:00<00:00, 41.57it/s]\n",
      "100%|██████████| 1/1 [00:00<00:00, 178.25it/s]\n",
      "100%|██████████| 6/6 [00:00<00:00, 79.12it/s]\n",
      "100%|██████████| 1/1 [00:00<00:00, 257.90it/s]\n",
      "100%|██████████| 6/6 [00:00<00:00, 105.61it/s]\n",
      "100%|██████████| 1/1 [00:00<00:00, 208.86it/s]\n",
      "100%|██████████| 6/6 [00:00<00:00, 100.75it/s]\n",
      "100%|██████████| 1/1 [00:00<00:00, 223.70it/s]\n",
      "100%|██████████| 6/6 [00:00<00:00, 84.76it/s]\n",
      "100%|██████████| 1/1 [00:00<00:00, 211.58it/s]\n",
      "100%|██████████| 6/6 [00:00<00:00, 50.38it/s]\n",
      "100%|██████████| 1/1 [00:00<00:00, 161.36it/s]\n",
      "100%|██████████| 6/6 [00:00<00:00, 83.55it/s]\n",
      "100%|██████████| 1/1 [00:00<00:00, 209.87it/s]\n",
      "100%|██████████| 6/6 [00:00<00:00, 88.11it/s]\n",
      "100%|██████████| 1/1 [00:00<00:00, 201.56it/s]\n"
     ]
    },
    {
     "name": "stdout",
     "output_type": "stream",
     "text": [
      "[epoch: 200] train loss: 1.7269\t valid loss: 1.7332\n"
     ]
    },
    {
     "name": "stderr",
     "output_type": "stream",
     "text": [
      "100%|██████████| 6/6 [00:00<00:00, 72.79it/s]\n",
      "100%|██████████| 1/1 [00:00<00:00, 118.51it/s]\n",
      "100%|██████████| 6/6 [00:00<00:00, 83.33it/s]\n",
      "100%|██████████| 1/1 [00:00<00:00, 204.97it/s]\n",
      "100%|██████████| 6/6 [00:00<00:00, 78.61it/s]\n",
      "100%|██████████| 1/1 [00:00<00:00, 172.13it/s]\n",
      "100%|██████████| 6/6 [00:00<00:00, 87.50it/s]\n",
      "100%|██████████| 1/1 [00:00<00:00, 190.97it/s]\n",
      "100%|██████████| 6/6 [00:00<00:00, 78.89it/s]\n",
      "100%|██████████| 1/1 [00:00<00:00, 290.87it/s]\n",
      "100%|██████████| 6/6 [00:00<00:00, 91.46it/s]\n",
      "100%|██████████| 1/1 [00:00<00:00, 173.75it/s]\n",
      "100%|██████████| 6/6 [00:00<00:00, 90.30it/s]\n",
      "100%|██████████| 1/1 [00:00<00:00, 199.33it/s]\n",
      "100%|██████████| 6/6 [00:00<00:00, 52.82it/s]\n",
      "100%|██████████| 1/1 [00:00<00:00, 214.30it/s]\n",
      "100%|██████████| 6/6 [00:00<00:00, 90.67it/s]\n",
      "100%|██████████| 1/1 [00:00<00:00, 187.95it/s]\n",
      "100%|██████████| 6/6 [00:00<00:00, 77.77it/s]\n",
      "100%|██████████| 1/1 [00:00<00:00, 206.07it/s]\n"
     ]
    },
    {
     "name": "stdout",
     "output_type": "stream",
     "text": [
      "[epoch: 210] train loss: 1.7267\t valid loss: 1.7331\n"
     ]
    },
    {
     "name": "stderr",
     "output_type": "stream",
     "text": [
      "100%|██████████| 6/6 [00:00<00:00, 82.81it/s]\n",
      "100%|██████████| 1/1 [00:00<00:00, 231.68it/s]\n",
      "100%|██████████| 6/6 [00:00<00:00, 88.88it/s]\n",
      "100%|██████████| 1/1 [00:00<00:00, 214.10it/s]\n",
      "100%|██████████| 6/6 [00:00<00:00, 66.65it/s]\n",
      "100%|██████████| 1/1 [00:00<00:00, 129.91it/s]\n",
      "100%|██████████| 6/6 [00:00<00:00, 83.95it/s]\n",
      "100%|██████████| 1/1 [00:00<00:00, 167.16it/s]\n",
      "100%|██████████| 6/6 [00:00<00:00, 78.13it/s]\n",
      "100%|██████████| 1/1 [00:00<00:00, 26.63it/s]\n",
      "100%|██████████| 6/6 [00:00<00:00, 78.19it/s]\n",
      "100%|██████████| 1/1 [00:00<00:00, 226.55it/s]\n",
      "100%|██████████| 6/6 [00:00<00:00, 92.03it/s]\n",
      "100%|██████████| 1/1 [00:00<00:00, 200.21it/s]\n",
      "100%|██████████| 6/6 [00:00<00:00, 85.50it/s]\n",
      "100%|██████████| 1/1 [00:00<00:00, 214.82it/s]\n",
      "100%|██████████| 6/6 [00:00<00:00, 91.00it/s]\n",
      "100%|██████████| 1/1 [00:00<00:00, 229.31it/s]\n",
      "100%|██████████| 6/6 [00:00<00:00, 99.37it/s]\n",
      "100%|██████████| 1/1 [00:00<00:00, 210.35it/s]\n"
     ]
    },
    {
     "name": "stdout",
     "output_type": "stream",
     "text": [
      "[epoch: 220] train loss: 1.7267\t valid loss: 1.7330\n"
     ]
    },
    {
     "name": "stderr",
     "output_type": "stream",
     "text": [
      "100%|██████████| 6/6 [00:00<00:00, 81.98it/s]\n",
      "100%|██████████| 1/1 [00:00<00:00, 139.61it/s]\n",
      "100%|██████████| 6/6 [00:00<00:00, 94.81it/s]\n",
      "100%|██████████| 1/1 [00:00<00:00, 239.56it/s]\n",
      "100%|██████████| 6/6 [00:00<00:00, 98.59it/s]\n",
      "100%|██████████| 1/1 [00:00<00:00, 233.20it/s]\n",
      "100%|██████████| 6/6 [00:00<00:00, 90.01it/s]\n",
      "100%|██████████| 1/1 [00:00<00:00, 174.87it/s]\n",
      "100%|██████████| 6/6 [00:00<00:00, 84.04it/s]\n",
      "100%|██████████| 1/1 [00:00<00:00, 182.69it/s]\n",
      "100%|██████████| 6/6 [00:00<00:00, 96.55it/s]\n",
      "100%|██████████| 1/1 [00:00<00:00, 189.34it/s]\n",
      "100%|██████████| 6/6 [00:00<00:00, 99.06it/s]\n",
      "100%|██████████| 1/1 [00:00<00:00, 192.32it/s]\n",
      "100%|██████████| 6/6 [00:00<00:00, 80.09it/s]\n",
      "100%|██████████| 1/1 [00:00<00:00, 179.63it/s]\n",
      "100%|██████████| 6/6 [00:00<00:00, 76.99it/s]\n",
      "100%|██████████| 1/1 [00:00<00:00, 222.98it/s]\n",
      "100%|██████████| 6/6 [00:00<00:00, 80.73it/s]\n",
      "100%|██████████| 1/1 [00:00<00:00, 211.01it/s]\n"
     ]
    },
    {
     "name": "stdout",
     "output_type": "stream",
     "text": [
      "[epoch: 230] train loss: 1.7266\t valid loss: 1.7330\n"
     ]
    },
    {
     "name": "stderr",
     "output_type": "stream",
     "text": [
      "100%|██████████| 6/6 [00:00<00:00, 89.21it/s]\n",
      "100%|██████████| 1/1 [00:00<00:00, 226.38it/s]\n",
      "100%|██████████| 6/6 [00:00<00:00, 97.90it/s]\n",
      "100%|██████████| 1/1 [00:00<00:00, 204.97it/s]\n",
      "100%|██████████| 6/6 [00:00<00:00, 80.02it/s]\n",
      "100%|██████████| 1/1 [00:00<00:00, 174.68it/s]\n",
      "100%|██████████| 6/6 [00:00<00:00, 75.52it/s]\n",
      "100%|██████████| 1/1 [00:00<00:00, 203.04it/s]\n",
      "100%|██████████| 6/6 [00:00<00:00, 82.95it/s]\n",
      "100%|██████████| 1/1 [00:00<00:00, 205.65it/s]\n",
      "100%|██████████| 6/6 [00:00<00:00, 93.70it/s]\n",
      "100%|██████████| 1/1 [00:00<00:00, 220.56it/s]\n",
      "100%|██████████| 6/6 [00:00<00:00, 90.69it/s]\n",
      "100%|██████████| 1/1 [00:00<00:00, 220.72it/s]\n",
      "100%|██████████| 6/6 [00:00<00:00, 75.29it/s]\n",
      "100%|██████████| 1/1 [00:00<00:00, 159.33it/s]\n",
      "100%|██████████| 6/6 [00:00<00:00, 69.97it/s]\n",
      "100%|██████████| 1/1 [00:00<00:00, 140.39it/s]\n",
      "100%|██████████| 6/6 [00:00<00:00, 76.18it/s]\n",
      "100%|██████████| 1/1 [00:00<00:00, 213.62it/s]\n"
     ]
    },
    {
     "name": "stdout",
     "output_type": "stream",
     "text": [
      "[epoch: 240] train loss: 1.7265\t valid loss: 1.7330\n"
     ]
    },
    {
     "name": "stderr",
     "output_type": "stream",
     "text": [
      "100%|██████████| 6/6 [00:00<00:00, 71.49it/s]\n",
      "100%|██████████| 1/1 [00:00<00:00, 164.11it/s]\n",
      "100%|██████████| 6/6 [00:00<00:00, 88.68it/s]\n",
      "100%|██████████| 1/1 [00:00<00:00, 206.77it/s]\n",
      "100%|██████████| 6/6 [00:00<00:00, 80.62it/s]\n",
      "100%|██████████| 1/1 [00:00<00:00, 151.41it/s]\n",
      "100%|██████████| 6/6 [00:00<00:00, 74.81it/s]\n",
      "100%|██████████| 1/1 [00:00<00:00, 170.36it/s]\n",
      "100%|██████████| 6/6 [00:00<00:00, 73.92it/s]\n",
      "100%|██████████| 1/1 [00:00<00:00, 193.85it/s]\n",
      "100%|██████████| 6/6 [00:00<00:00, 49.69it/s]\n",
      "100%|██████████| 1/1 [00:00<00:00, 158.41it/s]\n",
      "100%|██████████| 6/6 [00:00<00:00, 91.90it/s]\n",
      "100%|██████████| 1/1 [00:00<00:00, 218.06it/s]\n",
      "100%|██████████| 6/6 [00:00<00:00, 91.07it/s]\n",
      "100%|██████████| 1/1 [00:00<00:00, 239.73it/s]\n",
      "100%|██████████| 6/6 [00:00<00:00, 94.37it/s]\n",
      "100%|██████████| 1/1 [00:00<00:00, 178.75it/s]\n",
      "100%|██████████| 6/6 [00:00<00:00, 82.20it/s]\n",
      "100%|██████████| 1/1 [00:00<00:00, 184.19it/s]\n"
     ]
    },
    {
     "name": "stdout",
     "output_type": "stream",
     "text": [
      "[epoch: 250] train loss: 1.7264\t valid loss: 1.7330\n"
     ]
    },
    {
     "name": "stderr",
     "output_type": "stream",
     "text": [
      "100%|██████████| 6/6 [00:00<00:00, 98.37it/s]\n",
      "100%|██████████| 1/1 [00:00<00:00, 218.75it/s]\n",
      "100%|██████████| 6/6 [00:00<00:00, 94.54it/s]\n",
      "100%|██████████| 1/1 [00:00<00:00, 199.62it/s]\n",
      "100%|██████████| 6/6 [00:00<00:00, 94.08it/s]\n",
      "100%|██████████| 1/1 [00:00<00:00, 229.03it/s]\n",
      "100%|██████████| 6/6 [00:00<00:00, 106.08it/s]\n",
      "100%|██████████| 1/1 [00:00<00:00, 218.65it/s]\n",
      "100%|██████████| 6/6 [00:00<00:00, 93.88it/s]\n",
      "100%|██████████| 1/1 [00:00<00:00, 224.94it/s]\n",
      "100%|██████████| 6/6 [00:00<00:00, 93.93it/s]\n",
      "100%|██████████| 1/1 [00:00<00:00, 222.85it/s]\n",
      "100%|██████████| 6/6 [00:00<00:00, 84.60it/s]\n",
      "100%|██████████| 1/1 [00:00<00:00, 173.86it/s]\n",
      "100%|██████████| 6/6 [00:00<00:00, 85.91it/s]\n",
      "100%|██████████| 1/1 [00:00<00:00, 211.42it/s]\n",
      "100%|██████████| 6/6 [00:00<00:00, 100.75it/s]\n",
      "100%|██████████| 1/1 [00:00<00:00, 213.52it/s]\n",
      "100%|██████████| 6/6 [00:00<00:00, 96.00it/s]\n",
      "100%|██████████| 1/1 [00:00<00:00, 221.84it/s]\n"
     ]
    },
    {
     "name": "stdout",
     "output_type": "stream",
     "text": [
      "[epoch: 260] train loss: 1.7264\t valid loss: 1.7329\n"
     ]
    },
    {
     "name": "stderr",
     "output_type": "stream",
     "text": [
      "100%|██████████| 6/6 [00:00<00:00, 97.55it/s]\n",
      "100%|██████████| 1/1 [00:00<00:00, 223.55it/s]\n",
      "100%|██████████| 6/6 [00:00<00:00, 81.83it/s]\n",
      "100%|██████████| 1/1 [00:00<00:00, 175.16it/s]\n",
      "100%|██████████| 6/6 [00:00<00:00, 78.14it/s]\n",
      "100%|██████████| 1/1 [00:00<00:00, 218.37it/s]\n",
      "100%|██████████| 6/6 [00:00<00:00, 82.92it/s]\n",
      "100%|██████████| 1/1 [00:00<00:00, 181.89it/s]\n",
      "100%|██████████| 6/6 [00:00<00:00, 79.14it/s]\n",
      "100%|██████████| 1/1 [00:00<00:00, 173.42it/s]\n",
      "100%|██████████| 6/6 [00:00<00:00, 78.64it/s]\n",
      "100%|██████████| 1/1 [00:00<00:00, 209.93it/s]\n",
      "100%|██████████| 6/6 [00:00<00:00, 89.93it/s]\n",
      "100%|██████████| 1/1 [00:00<00:00, 227.25it/s]\n",
      "100%|██████████| 6/6 [00:00<00:00, 100.17it/s]\n",
      "100%|██████████| 1/1 [00:00<00:00, 234.00it/s]\n",
      "100%|██████████| 6/6 [00:00<00:00, 91.49it/s]\n",
      "100%|██████████| 1/1 [00:00<00:00, 232.00it/s]\n",
      "100%|██████████| 6/6 [00:00<00:00, 94.92it/s]\n",
      "100%|██████████| 1/1 [00:00<00:00, 178.94it/s]\n"
     ]
    },
    {
     "name": "stdout",
     "output_type": "stream",
     "text": [
      "[epoch: 270] train loss: 1.7264\t valid loss: 1.7329\n"
     ]
    },
    {
     "name": "stderr",
     "output_type": "stream",
     "text": [
      "100%|██████████| 6/6 [00:00<00:00, 91.85it/s]\n",
      "100%|██████████| 1/1 [00:00<00:00, 218.59it/s]\n",
      "100%|██████████| 6/6 [00:00<00:00, 102.78it/s]\n",
      "100%|██████████| 1/1 [00:00<00:00, 202.34it/s]\n",
      "100%|██████████| 6/6 [00:00<00:00, 82.34it/s]\n",
      "100%|██████████| 1/1 [00:00<00:00, 188.10it/s]\n",
      "100%|██████████| 6/6 [00:00<00:00, 81.30it/s]\n",
      "100%|██████████| 1/1 [00:00<00:00, 192.06it/s]\n",
      "100%|██████████| 6/6 [00:00<00:00, 79.23it/s]\n",
      "100%|██████████| 1/1 [00:00<00:00, 184.02it/s]\n",
      "100%|██████████| 6/6 [00:00<00:00, 50.85it/s]\n",
      "100%|██████████| 1/1 [00:00<00:00, 206.10it/s]\n",
      "100%|██████████| 6/6 [00:00<00:00, 91.40it/s]\n",
      "100%|██████████| 1/1 [00:00<00:00, 210.31it/s]\n",
      "100%|██████████| 6/6 [00:00<00:00, 101.63it/s]\n",
      "100%|██████████| 1/1 [00:00<00:00, 213.19it/s]\n",
      "100%|██████████| 6/6 [00:00<00:00, 91.78it/s]\n",
      "100%|██████████| 1/1 [00:00<00:00, 143.61it/s]\n",
      "100%|██████████| 6/6 [00:00<00:00, 50.45it/s]\n",
      "100%|██████████| 1/1 [00:00<00:00, 172.88it/s]\n"
     ]
    },
    {
     "name": "stdout",
     "output_type": "stream",
     "text": [
      "[epoch: 280] train loss: 1.7263\t valid loss: 1.7329\n"
     ]
    },
    {
     "name": "stderr",
     "output_type": "stream",
     "text": [
      "100%|██████████| 6/6 [00:00<00:00, 83.55it/s]\n",
      "100%|██████████| 1/1 [00:00<00:00, 138.28it/s]\n",
      "100%|██████████| 6/6 [00:00<00:00, 82.35it/s]\n",
      "100%|██████████| 1/1 [00:00<00:00, 213.80it/s]\n",
      "100%|██████████| 6/6 [00:00<00:00, 85.55it/s]\n",
      "100%|██████████| 1/1 [00:00<00:00, 193.09it/s]\n",
      "100%|██████████| 6/6 [00:00<00:00, 93.07it/s]\n",
      "100%|██████████| 1/1 [00:00<00:00, 221.16it/s]\n",
      "100%|██████████| 6/6 [00:00<00:00, 97.57it/s]\n",
      "100%|██████████| 1/1 [00:00<00:00, 197.64it/s]\n",
      "100%|██████████| 6/6 [00:00<00:00, 95.93it/s]\n",
      "100%|██████████| 1/1 [00:00<00:00, 178.43it/s]\n",
      "100%|██████████| 6/6 [00:00<00:00, 98.85it/s]\n",
      "100%|██████████| 1/1 [00:00<00:00, 198.43it/s]\n",
      "100%|██████████| 6/6 [00:00<00:00, 100.87it/s]\n",
      "100%|██████████| 1/1 [00:00<00:00, 212.21it/s]\n",
      "100%|██████████| 6/6 [00:00<00:00, 78.21it/s]\n",
      "100%|██████████| 1/1 [00:00<00:00, 233.74it/s]\n",
      "100%|██████████| 6/6 [00:00<00:00, 95.16it/s]\n",
      "100%|██████████| 1/1 [00:00<00:00, 232.85it/s]\n"
     ]
    },
    {
     "name": "stdout",
     "output_type": "stream",
     "text": [
      "[epoch: 290] train loss: 1.7263\t valid loss: 1.7329\n"
     ]
    },
    {
     "name": "stderr",
     "output_type": "stream",
     "text": [
      "100%|██████████| 6/6 [00:00<00:00, 91.64it/s]\n",
      "100%|██████████| 1/1 [00:00<00:00, 184.11it/s]\n",
      "100%|██████████| 6/6 [00:00<00:00, 92.81it/s]\n",
      "100%|██████████| 1/1 [00:00<00:00, 160.63it/s]\n",
      "100%|██████████| 6/6 [00:00<00:00, 95.52it/s]\n",
      "100%|██████████| 1/1 [00:00<00:00, 228.52it/s]\n",
      "100%|██████████| 6/6 [00:00<00:00, 94.34it/s]\n",
      "100%|██████████| 1/1 [00:00<00:00, 229.18it/s]\n",
      "100%|██████████| 6/6 [00:00<00:00, 91.79it/s]\n",
      "100%|██████████| 1/1 [00:00<00:00, 208.29it/s]\n",
      "100%|██████████| 6/6 [00:00<00:00, 94.33it/s]\n",
      "100%|██████████| 1/1 [00:00<00:00, 220.96it/s]\n",
      "100%|██████████| 6/6 [00:00<00:00, 93.62it/s]\n",
      "100%|██████████| 1/1 [00:00<00:00, 268.02it/s]\n",
      "100%|██████████| 6/6 [00:00<00:00, 101.03it/s]\n",
      "100%|██████████| 1/1 [00:00<00:00, 213.37it/s]\n",
      "100%|██████████| 6/6 [00:00<00:00, 92.44it/s]\n",
      "100%|██████████| 1/1 [00:00<00:00, 226.69it/s]\n"
     ]
    }
   ],
   "source": [
    "from tqdm import tqdm\n",
    "from torch.utils.data import Dataset, DataLoader\n",
    "\n",
    "lr = 1e-3\n",
    "\n",
    "criterion = torch.nn.CrossEntropyLoss()\n",
    "optimizer = torch.optim.Adam(model.parameters(), lr=lr)\n",
    "scheduler = torch.optim.lr_scheduler.ExponentialLR(optimizer, gamma=0.5)\n",
    "min_loss = np.Inf\n",
    "\n",
    "num_epochs = 300\n",
    "\n",
    "train_loss_graph = [] # 그래프 그릴 목적인 loss.\n",
    "valid_loss_graph = []\n",
    "\n",
    "exlr_point_x = [] # exponential LR 을 그릴 목적\n",
    "exlr_point_y = []\n",
    "n = len(train_dataloader)\n",
    "\n",
    "\n",
    "for epoch in range(num_epochs):\n",
    "    train_loss = 0.0\n",
    "    valid_loss = 0.0\n",
    "    \n",
    "    n_batches = 0\n",
    "    \n",
    "    model.train()\n",
    "    for data in tqdm(train_dataloader):\n",
    "        #print(\"epoch: {}\".format(epoch))\n",
    "        seq, target = data # 배치 데이터.\n",
    "        #print(\"seq type: {} \\tseq shape:\")\n",
    "        #print('seq shape: {} \\ttarget shape: {}'.format(seq.shape, target.shape))\n",
    "            # seq shape: torch.Size([10, 29, 1662]) \n",
    "            # target shape: torch.Size([10, 6])\n",
    "        \n",
    "        optimizer.zero_grad() # \n",
    "        out = model(seq)   # 모델에 넣고,\n",
    "        \n",
    "            #print(\"seq shape: {}\\t out shape: {}\".format(seq.shape, out.shape))\n",
    "            #print(\"out value: \\n\", out)\n",
    "            # seq shape: torch.Size([27, 29, 1662])\t out shape: torch.Size([27, 6])\n",
    "            # 현재 배치 단위로 학습하기 때문에, 1차원이 배치로 나오고 있음에 헷갈리지 말자.\n",
    "\n",
    "            #print(\"target shape: {}\".format(type(target)))\n",
    "            # target shape: torch.Size([27, 6])\n",
    "            #print(\"target value: \", target)\n",
    "            # tensor([[0., 0., 0., 1., 0., 0.], ....\n",
    "        \n",
    "        loss = criterion(out, target) # output 가지고 loss 구하고,        \n",
    "        loss.backward() # loss가 최소가 되게하는\n",
    "        \n",
    "        optimizer.step() # 가중치 업데이트 해주고,\n",
    "        train_loss += loss.item() # 한 배치의 loss 더해주고,\n",
    "        \n",
    "        n_batches +=1\n",
    "        \n",
    "    train_loss /= n_batches\n",
    "    train_loss_graph.append(train_loss)\n",
    "    \n",
    "    ## validation loss\n",
    "    model.eval()\n",
    "    t_batches = 0\n",
    "    for test_data in tqdm(test_dataloader):\n",
    "        test_seq, test_target = test_data\n",
    "        \n",
    "        test_out = model(test_seq)\n",
    "        \n",
    "        test_loss = criterion(test_out, test_target)\n",
    "        \n",
    "        valid_loss += test_loss.item()\n",
    "        \n",
    "        t_batches += 1\n",
    "    \n",
    "    valid_loss /= t_batches\n",
    "    valid_loss_graph.append(valid_loss)\n",
    "    \n",
    "    if(epoch % 10 == 0):\n",
    "        print('[epoch: {}] train loss: {:.4f}\\t valid loss: {:.4f}'.format(epoch, train_loss, valid_loss))\n",
    "    if(epoch % 30 == 0):\n",
    "        scheduler.step()\n",
    "        exlr_point_x.append(epoch)\n",
    "\n",
    "exlr_point_y.append(min(train_loss_graph))\n",
    "exlr_point_y.append(max(train_loss_graph))"
   ]
  },
  {
   "cell_type": "code",
   "execution_count": 171,
   "metadata": {},
   "outputs": [
    {
     "data": {
      "text/plain": [
       "BaseModel(\n",
       "  (rnn): RNN(1662, 64, batch_first=True)\n",
       "  (fc): Sequential(\n",
       "    (0): Linear(in_features=64, out_features=6, bias=True)\n",
       "    (1): Sigmoid()\n",
       "    (2): Softmax(dim=1)\n",
       "  )\n",
       ")"
      ]
     },
     "execution_count": 171,
     "metadata": {},
     "output_type": "execute_result"
    }
   ],
   "source": [
    "model"
   ]
  },
  {
   "cell_type": "code",
   "execution_count": null,
   "metadata": {},
   "outputs": [],
   "source": [
    "exlr_point"
   ]
  },
  {
   "cell_type": "code",
   "execution_count": 229,
   "metadata": {
    "scrolled": false
   },
   "outputs": [
    {
     "data": {
      "image/png": "[encoded data removed]",
      "text/plain": [
       "<Figure size 1440x720 with 1 Axes>"
      ]
     },
     "metadata": {
      "needs_background": "light"
     },
     "output_type": "display_data"
    }
   ],
   "source": [
    "plt.figure(figsize=(20,10))\n",
    "#_x_value = num_epochs\n",
    "\n",
    "plt.plot(train_loss_graph, label='train loss per epoch')\n",
    "plt.plot(valid_loss_graph, label='valid loss per epoch')\n",
    "plt.plot([exlr_point_x[0], exlr_point_x[0]], exlr_point_y, label='Exponential LR executed', linestyle='--', c='pink', linewidth=0.8)\n",
    "\n",
    "for i in range(1, len(exlr_point_x)):\n",
    "    plt.plot([exlr_point_x[i], exlr_point_x[i]], exlr_point_y, linestyle='--', c='pink', linewidth=0.8)\n",
    "\n",
    "plt.xlabel('epoch',fontsize=20)\n",
    "plt.ylabel('loss', fontsize=20)\n",
    "plt.legend()\n",
    "plt.savefig('../images/RNN-1662-64_FC-6_valid_ExLR2.png',dpi=300)\n",
    "plt.show()"
   ]
  },
  {
   "cell_type": "markdown",
   "metadata": {},
   "source": [
    "# 4. Model save and Test"
   ]
  },
  {
   "cell_type": "code",
   "execution_count": 230,
   "metadata": {},
   "outputs": [],
   "source": [
    "# model save\n",
    "from time import time, gmtime, localtime\n",
    "\n",
    "_time = time()\n",
    "_time = gmtime(_time)\n",
    "\n",
    "# _h5_file_name = '../model/RNN_ver' + str(_time.tm_mon) + str(_time.tm_mday) + '_2_softmax.pt'\n",
    "_h5_file_name = '../model/1019RNN-1662-64_FC-6_valid_ExLR.pt'\n",
    "\n",
    "torch.save(model.state_dict(), _h5_file_name)"
   ]
  },
  {
   "cell_type": "code",
   "execution_count": 231,
   "metadata": {},
   "outputs": [
    {
     "data": {
      "text/plain": [
       "<All keys matched successfully>"
      ]
     },
     "execution_count": 231,
     "metadata": {},
     "output_type": "execute_result"
    }
   ],
   "source": [
    "# model load\n",
    "\n",
    "model = BaseModel()\n",
    "#model.load_state_dict(torch.load('../model/RNN_ver1019_2_softmax.pt'))\n",
    "model.load_state_dict(torch.load('../model/1019RNN-1662-64_FC-6_valid_ExLR.pt'))"
   ]
  },
  {
   "cell_type": "code",
   "execution_count": 125,
   "metadata": {},
   "outputs": [],
   "source": [
    "# predict function\n",
    "\n",
    "## set the Test function\n",
    "\n",
    "def predict_oneframe(image): # for just one frame prediction\n",
    "    '''\n",
    "    criterion = nn.CrossEntropyLoss()\n",
    "    model = model.to(DEVICE)\n",
    "    '''\n",
    "    #model.eval()\n",
    "\n",
    "    correct = 0\n",
    "    predict = 0\n",
    "    cost = 0\n",
    "    n_batches = 0\n",
    "    loss_evaluate = 0\n",
    "    \n",
    "    model.eval()\n",
    "    \n",
    "    with torch.no_grad():\n",
    "        #image = image.to(DEVICE)\n",
    "        \n",
    "        y_hat = model(image)\n",
    "        y_hat.argmax()\n",
    "        \n",
    "    return y_hat"
   ]
  },
  {
   "cell_type": "code",
   "execution_count": 11,
   "metadata": {},
   "outputs": [
    {
     "data": {
      "text/plain": [
       "'_max_count = np.zeros(6)\\n\\nfor i in range(0, 1662):\\n    _max_idx = np.argmax(res[i])\\n    #print(\"max idx : \", type(_max_idx))\\n    _max_count[_max_idx] += 1\\n\\n    \\nprint(\"result: \", _max_count)\\n'"
      ]
     },
     "execution_count": 11,
     "metadata": {},
     "output_type": "execute_result"
    }
   ],
   "source": [
    "'''_max_count = np.zeros(6)\n",
    "\n",
    "for i in range(0, 1662):\n",
    "    _max_idx = np.argmax(res[i])\n",
    "    #print(\"max idx : \", type(_max_idx))\n",
    "    _max_count[_max_idx] += 1\n",
    "\n",
    "    \n",
    "print(\"result: \", _max_count)\n",
    "'''"
   ]
  },
  {
   "cell_type": "code",
   "execution_count": 165,
   "metadata": {},
   "outputs": [],
   "source": [
    "colors = [(245,117,16), (117,245,16), (16,117,245), (245,117,16), (117,245,16), (16,117,245)]\n",
    "\n",
    "def prob_viz(res, actions, input_frame, colors):\n",
    "    output_frame = input_frame.copy()\n",
    "    for num, prob in enumerate(res):\n",
    "        # rectangle(img, (start_x, start_y), (end_x, end_y), color, line_width, line종류, fractional bit)\n",
    "        cv2.rectangle(output_frame, (0,60+num*40), (int(prob*100), 90+num*40), colors[num], -1)\n",
    "        cv2.putText(output_frame, actions[num], (0, 85+num*40), cv2.FONT_HERSHEY_SIMPLEX, 1, (255,255,255), 2, cv2.LINE_AA)\n",
    "        \n",
    "    return output_frame"
   ]
  },
  {
   "cell_type": "code",
   "execution_count": 234,
   "metadata": {
    "scrolled": true
   },
   "outputs": [
    {
     "name": "stdout",
     "output_type": "stream",
     "text": [
      "under threshold, prob is: 0.27886542677879333, predicted action is: running\n",
      "under threshold, prob is: 0.232000470161438, predicted action is: running\n",
      "under threshold, prob is: 0.27548331022262573, predicted action is: running\n",
      "under threshold, prob is: 0.2844853699207306, predicted action is: running\n",
      "under threshold, prob is: 0.28218594193458557, predicted action is: running\n",
      "under threshold, prob is: 0.2820746600627899, predicted action is: running\n",
      "under threshold, prob is: 0.2817404270172119, predicted action is: running\n",
      "under threshold, prob is: 0.2823255956172943, predicted action is: running\n",
      "under threshold, prob is: 0.28219088912010193, predicted action is: running\n",
      "under threshold, prob is: 0.28234291076660156, predicted action is: running\n",
      "under threshold, prob is: 0.2822887897491455, predicted action is: running\n",
      "under threshold, prob is: 0.28230544924736023, predicted action is: running\n",
      "under threshold, prob is: 0.2824159264564514, predicted action is: running\n",
      "under threshold, prob is: 0.2823081314563751, predicted action is: running\n",
      "under threshold, prob is: 0.2824377417564392, predicted action is: running\n",
      "under threshold, prob is: 0.28218311071395874, predicted action is: running\n",
      "under threshold, prob is: 0.28249576687812805, predicted action is: running\n",
      "under threshold, prob is: 0.2826208472251892, predicted action is: running\n",
      "under threshold, prob is: 0.2828160524368286, predicted action is: running\n",
      "under threshold, prob is: 0.2828487157821655, predicted action is: running\n",
      "under threshold, prob is: 0.2829957604408264, predicted action is: running\n",
      "under threshold, prob is: 0.2834737002849579, predicted action is: running\n",
      "under threshold, prob is: 0.2834738492965698, predicted action is: running\n",
      "under threshold, prob is: 0.2835647761821747, predicted action is: running\n",
      "under threshold, prob is: 0.28364795446395874, predicted action is: running\n",
      "under threshold, prob is: 0.2780134677886963, predicted action is: running\n",
      "under threshold, prob is: 0.2864542603492737, predicted action is: running\n",
      "under threshold, prob is: 0.2835361957550049, predicted action is: running\n",
      "under threshold, prob is: 0.2836528718471527, predicted action is: running\n",
      "under threshold, prob is: 0.28344520926475525, predicted action is: running\n",
      "under threshold, prob is: 0.28319424390792847, predicted action is: running\n",
      "under threshold, prob is: 0.28314393758773804, predicted action is: running\n",
      "under threshold, prob is: 0.28294816613197327, predicted action is: running\n",
      "under threshold, prob is: 0.2829756736755371, predicted action is: running\n",
      "under threshold, prob is: 0.28279536962509155, predicted action is: running\n",
      "under threshold, prob is: 0.28261202573776245, predicted action is: running\n",
      "under threshold, prob is: 0.2820879817008972, predicted action is: running\n",
      "under threshold, prob is: 0.28789153695106506, predicted action is: running\n",
      "under threshold, prob is: 0.2840330898761749, predicted action is: running\n",
      "under threshold, prob is: 0.2820649743080139, predicted action is: running\n",
      "under threshold, prob is: 0.2818543612957001, predicted action is: running\n",
      "under threshold, prob is: 0.2815242409706116, predicted action is: running\n",
      "under threshold, prob is: 0.28130125999450684, predicted action is: running\n",
      "under threshold, prob is: 0.2811301648616791, predicted action is: running\n",
      "under threshold, prob is: 0.2810160219669342, predicted action is: running\n",
      "under threshold, prob is: 0.28097647428512573, predicted action is: running\n",
      "under threshold, prob is: 0.28096944093704224, predicted action is: running\n",
      "under threshold, prob is: 0.2809305191040039, predicted action is: running\n",
      "under threshold, prob is: 0.28101322054862976, predicted action is: running\n",
      "under threshold, prob is: 0.2810004651546478, predicted action is: running\n",
      "under threshold, prob is: 0.2811228036880493, predicted action is: running\n",
      "under threshold, prob is: 0.2809091806411743, predicted action is: running\n",
      "under threshold, prob is: 0.2808700203895569, predicted action is: running\n",
      "under threshold, prob is: 0.28067708015441895, predicted action is: running\n",
      "under threshold, prob is: 0.28060221672058105, predicted action is: running\n",
      "under threshold, prob is: 0.28055956959724426, predicted action is: running\n",
      "under threshold, prob is: 0.28052830696105957, predicted action is: running\n",
      "under threshold, prob is: 0.2805017828941345, predicted action is: running\n",
      "under threshold, prob is: 0.28044551610946655, predicted action is: running\n",
      "under threshold, prob is: 0.2804376184940338, predicted action is: running\n",
      "under threshold, prob is: 0.28029632568359375, predicted action is: running\n",
      "under threshold, prob is: 0.28029489517211914, predicted action is: running\n",
      "under threshold, prob is: 0.2802668511867523, predicted action is: running\n",
      "under threshold, prob is: 0.28029105067253113, predicted action is: running\n",
      "under threshold, prob is: 0.2801406979560852, predicted action is: running\n",
      "under threshold, prob is: 0.2801433205604553, predicted action is: running\n",
      "under threshold, prob is: 0.27987027168273926, predicted action is: running\n",
      "under threshold, prob is: 0.2799328565597534, predicted action is: running\n",
      "under threshold, prob is: 0.2796488404273987, predicted action is: running\n",
      "under threshold, prob is: 0.2796838581562042, predicted action is: running\n",
      "under threshold, prob is: 0.27951374650001526, predicted action is: running\n",
      "under threshold, prob is: 0.27926450967788696, predicted action is: running\n",
      "under threshold, prob is: 0.27935734391212463, predicted action is: running\n",
      "under threshold, prob is: 0.27918320894241333, predicted action is: running\n",
      "under threshold, prob is: 0.27894890308380127, predicted action is: running\n",
      "under threshold, prob is: 0.2790866792201996, predicted action is: running\n",
      "under threshold, prob is: 0.2790360450744629, predicted action is: running\n",
      "under threshold, prob is: 0.2789141535758972, predicted action is: running\n",
      "under threshold, prob is: 0.2787761390209198, predicted action is: running\n",
      "under threshold, prob is: 0.27853530645370483, predicted action is: running\n",
      "under threshold, prob is: 0.27839475870132446, predicted action is: running\n",
      "under threshold, prob is: 0.2781616151332855, predicted action is: running\n",
      "under threshold, prob is: 0.27779945731163025, predicted action is: running\n",
      "under threshold, prob is: 0.27754393219947815, predicted action is: running\n",
      "under threshold, prob is: 0.2775002121925354, predicted action is: running\n",
      "under threshold, prob is: 0.2774004340171814, predicted action is: running\n",
      "under threshold, prob is: 0.2770971357822418, predicted action is: running\n",
      "under threshold, prob is: 0.2769152522087097, predicted action is: running\n",
      "under threshold, prob is: 0.27666836977005005, predicted action is: running\n",
      "under threshold, prob is: 0.2766045331954956, predicted action is: running\n",
      "under threshold, prob is: 0.27642202377319336, predicted action is: running\n",
      "under threshold, prob is: 0.2763154208660126, predicted action is: running\n",
      "under threshold, prob is: 0.27652478218078613, predicted action is: running\n",
      "under threshold, prob is: 0.27648231387138367, predicted action is: running\n",
      "under threshold, prob is: 0.2767787575721741, predicted action is: running\n",
      "under threshold, prob is: 0.2770518362522125, predicted action is: running\n",
      "under threshold, prob is: 0.2772381007671356, predicted action is: running\n",
      "under threshold, prob is: 0.27723047137260437, predicted action is: running\n",
      "under threshold, prob is: 0.27716064453125, predicted action is: running\n",
      "under threshold, prob is: 0.27699434757232666, predicted action is: running\n",
      "under threshold, prob is: 0.2763892114162445, predicted action is: running\n",
      "under threshold, prob is: 0.275934636592865, predicted action is: running\n",
      "under threshold, prob is: 0.2757698595523834, predicted action is: running\n",
      "under threshold, prob is: 0.27555468678474426, predicted action is: running\n",
      "under threshold, prob is: 0.2753913104534149, predicted action is: running\n"
     ]
    }
   ],
   "source": [
    "# this is for test - predict_oneframe()\n",
    "import pandas as pd\n",
    "from time import time, gmtime, localtime\n",
    "\n",
    "def _get_time():\n",
    "    _ct = gmtime(time())\n",
    "    hour = _ct.tm_hour+9\n",
    "    minute = _ct.tm_min\n",
    "    \n",
    "    return _ct, hour, minute\n",
    "\n",
    "def action_record(bh, bm, ct, action, c):\n",
    "    _t = ct\n",
    "    \n",
    "    _year = _t.tm_year\n",
    "    _month = _t.tm_mon\n",
    "    _day = _t.tm_mday\n",
    "    _hour = _t.tm_hour+9\n",
    "    _min = _t.tm_min\n",
    "    _action = actions[action]\n",
    "    _du_h = _hour - bh\n",
    "    _du_m = _min - bm\n",
    "    \n",
    "    _du = _du_h*60 + _du_m\n",
    "    _co = action_count[action]\n",
    "    \n",
    "    action_time_log.loc[c-1] = [_year, _month, _day, _hour, _min, _action, 0, _co]\n",
    "    \n",
    "    if c != 1:\n",
    "        action_time_log.loc[c-2,'Duration'] = _du\n",
    "    return _hour, _min\n",
    "\n",
    "# action count, time logging\n",
    "action_count = np.zeros(actions.shape[0])\n",
    "action_time_log = pd.DataFrame(columns=['Year', 'Month', 'Day', 'Hour', 'Minute','Action','Duration','Count'])\n",
    "\n",
    "\n",
    "sequence = []\n",
    "sentence = []\n",
    "predictions = []\n",
    "threshold = 0.5\n",
    "co = 0\n",
    "_new_h = 0\n",
    "_new_m = 0\n",
    "_bef_h = 0\n",
    "_bef_m = 0\n",
    "\n",
    "cap = cv2.VideoCapture('../input2.avi')\n",
    "# Set mediapipe model \n",
    "with mp_holistic.Holistic(min_detection_confidence=0.5, min_tracking_confidence=0.5) as holistic:\n",
    "    while cap.isOpened():\n",
    "\n",
    "        # Read feed\n",
    "        ret, frame = cap.read()\n",
    "\n",
    "        # Make detections\n",
    "        image, results = mediapipe_detection(frame, holistic)\n",
    "        \n",
    "        #print(results)\n",
    "        \n",
    "        # Draw landmarks\n",
    "        draw_styled_landmarks(image, results)\n",
    "        \n",
    "        # 2. Prediction logic\n",
    "        keypoints = extract_keypoints(results)\n",
    "        sequence.append(keypoints)\n",
    "        sequence = sequence[-29:]\n",
    "        \n",
    "        if len(sequence) == 29:\n",
    "            #sequence_test = np.expand_dims(sequence, axis=0).swapaxes(1,2)\n",
    "            sequence_test = np.expand_dims(sequence, axis=0)\n",
    "            \n",
    "            \n",
    "            sequence_test = torch.tensor(sequence_test, dtype=torch.float32)\n",
    "            #print(\"30fps, np expand is: \", np.expand_dims(sequence, axis=0))\n",
    "            #print(\"shape is: {}\".format(np.expand_dims(sequence, axis=0).shape))\n",
    "                # np.expand_dims(sequence, axis=0) (1, 30, 1662)\n",
    "                # ex x shape was:                  (180, 30, 1662)\n",
    "                # train X shape:                   (162, 1662, 29)\n",
    "                # sequece_test shape:              (1, 1662, 29)\n",
    "            #print(type(sequence_test))\n",
    "                # sequence_test type is numpy.ndarray\n",
    "            res = predict_oneframe(sequence_test)[0]\n",
    "            rest_try = model(sequence_test)\n",
    "            #print(\"seq_test shape: {}\\tres_shape: {}, \\trest_try_shape: {}\".format(sequence_test.shape, res.shape, rest_try.shape))\n",
    "            \n",
    "            \n",
    "            # seq_test shape: torch.Size([1, 29, 1662]) res_shape: torch.Size([29, 6])-> this should be (1, 6) if i want to make it same with org code\n",
    "            # rest_try_shape: torch.Size([1, 29, 6])\n",
    "            \n",
    "            # 애초부터 RNN 모델링이 잘못되었었음!\n",
    "            # 1. input_dim = 1662이었어야했다(입력 전체 피처 수)\n",
    "            # 2. 결과가 (1,6) 이려면 ...\n",
    "            \n",
    "                    # predict_oneframe shape:          torch.Size([1, 1662, 6])\n",
    "            \n",
    "            #print('res: {}'.format(res.shape))\n",
    "                # res: torch.Size([1662, 6])\n",
    "            #print('res: {}'.format(predict_oneframe(sequence_test).shape))\n",
    "                # predict_oneframe(sequence_test) shape: torch.Size([1, 1662, 6])\n",
    "            \n",
    "            #print('res shape: {} \\targmax: {}'.format(res.shape, np.argmax(res[1])))\n",
    "                # res shape:                       torch.Size([1662, 6]) \n",
    "                # np.argmax(res):                  8\n",
    "                # 결과 action은 res[1] 에 저장되어있다\n",
    "                \n",
    "                \n",
    "            #print(actions[np.argmax(res[1660])])\n",
    "            predictions.append(np.argmax(res)) # 이제 res 라는 배열은 (6,)으로 확률을 갖는다.(확률인진 몰라도, 일단 점수임 sigmoid. 모델에서 softmax 추가 시 %로 가능!)\n",
    "            \n",
    "            '''\n",
    "            Action Detection Refined와 shape 비교\n",
    "            ## 원본 코드\n",
    "            res = model.predict(np.expand_dims(sequence, axis=0))[0] # shape:(1,6)에서 [0]을 뽑아온 res.shape = (6,)\n",
    "            predictions.append(np.argmax(res)) # 따라서 (6,)에서의 최댓값으로 인덱싱이 가능\n",
    "            \n",
    "            # 여기서의 X.shape = (180, 29, 1662)\n",
    "            #### -> 180은 배치사이즈로 없어지고, 29는 라벨로 없어지는 듯. (Y_test.shape = (9, 6))\n",
    "            #### 아 근데 29 라벨로 없어지는 건 내 거도 동일. \n",
    "            # 나의    X.shape = (162, 1662, 29) -> 일단 이걸 예제랑 똑같게 고쳤다. (162, 29, 1662) 이제 남은건 (29, 6)으로 출력되는 걸 (1,6)으로 만드는 것.\n",
    "            \n",
    "            ## 내 코드\n",
    "            res = predict_oneframe(sequence_test)[0]\n",
    "            predictions.append(np.argmax(res[1660]))\n",
    "            \n",
    "            고친듯!!\n",
    "            seq_test shape: torch.Size([1, 29, 1662])\tres_shape: torch.Size([6]), \trest_try_shape: torch.Size([1, 6])\n",
    "\n",
    "            '''\n",
    "            \n",
    "        \n",
    "        #3. Visualize and count, logging logic\n",
    "            if np.unique(predictions[-10:])[0]==np.argmax(res): # 최근 10개의 action이 현재 분류된 action과 같으면\n",
    "            \n",
    "                if res[np.argmax(res)] > 0.4:                # 그리고 현재 분류된 action의 확률이 threshold를 넘으면\n",
    "                    \n",
    "                    if len(sentence) > 0:                          # 처음이 아니면\n",
    "                        if actions[np.argmax(res)] != sentence[-1]:     # 이전 action과 다를 때만 logging\n",
    "                            co += 1\n",
    "                            _a = np.argmax(res)\n",
    "                            \n",
    "                            action_count[_a] += 1\n",
    "                            _action = actions[_a]\n",
    "                            \n",
    "                            _bef_h = _new_h\n",
    "                            _bef_m = _new_m\n",
    "                            ct, _new_h, _new_m = _get_time()\n",
    "                            # action_record(bh, bm, ct, action, c)\n",
    "                            action_record(_bef_h, _bef_m, ct, np.argmax(res), co)\n",
    "                            print(\"prob: {}, predicted action: {}\". format(res[np.argmax(res)], actions[np.argmax(res)]))\n",
    "                                  \n",
    "                            #print(action_record)\n",
    "                            sentence.append(actions[np.argmax(res)])\n",
    "                        else:\n",
    "                            print(\"prob: {}, predicted as same action\".format(res[np.argmax(res)]))\n",
    "                    else:\n",
    "                        sentence.append(actions[np.argmax(res)])\n",
    "                else:\n",
    "                    print(\"under threshold, prob is: {}, predicted action is: {}\".format(res[np.argmax(res)], actions[np.argmax(res)]))\n",
    "            if len(sentence) > 5: \n",
    "                sentence = sentence[-5:]\n",
    "\n",
    "            # Viz probabilities\n",
    "            image = prob_viz(res, actions, image, colors)\n",
    "            \n",
    "        cv2.rectangle(image, (0,0), (640, 40), (245, 117, 16), -1)\n",
    "        cv2.putText(image, ' '.join(sentence), (3,30), \n",
    "                    cv2.FONT_HERSHEY_SIMPLEX, 1, (255, 255, 255), 2, cv2.LINE_AA)\n",
    "        \n",
    "        \n",
    "        # Show to screen\n",
    "        cv2.imshow('OpenCV Feed', image)\n",
    "\n",
    "        # Break gracefully\n",
    "        if cv2.waitKey(10) & 0xFF == ord('q'):\n",
    "            break\n",
    "    \n",
    "    cap.release()\n",
    "    cv2.destroyAllWindows()\n",
    "\n"
   ]
  },
  {
   "cell_type": "code",
   "execution_count": 235,
   "metadata": {},
   "outputs": [
    {
     "data": {
      "text/plain": [
       "tensor([0.1911, 0.1267, 0.1216, 0.2754, 0.1158, 0.1693])"
      ]
     },
     "execution_count": 235,
     "metadata": {},
     "output_type": "execute_result"
    }
   ],
   "source": [
    "res"
   ]
  },
  {
   "cell_type": "code",
   "execution_count": 142,
   "metadata": {},
   "outputs": [
    {
     "name": "stdout",
     "output_type": "stream",
     "text": [
      "res before softmax:  tensor([0.0854, 0.2190, 0.1684, 0.2151, 0.2116, 0.1005])\n",
      "res after softmax:  tensor([0.0854, 0.2190, 0.1684, 0.2151, 0.2116, 0.1005])\n"
     ]
    }
   ],
   "source": [
    "print('res before softmax: ',res) # tensor([0.6048, 0.0545, 0.1811, 0.7513, 0.6648, 0.0219])\n",
    "print('res after softmax: ',res) # tensor([0.0854, 0.2190, 0.1684, 0.2151, 0.2116, 0.1005])\n",
    "# 확실히 퍼센트로 나타낼 수 있겠군.!"
   ]
  },
  {
   "cell_type": "code",
   "execution_count": 130,
   "metadata": {},
   "outputs": [
    {
     "data": {
      "text/plain": [
       "tensor(0.7513)"
      ]
     },
     "execution_count": 130,
     "metadata": {},
     "output_type": "execute_result"
    }
   ],
   "source": [
    "res[np.argmax(res)]"
   ]
  },
  {
   "cell_type": "code",
   "execution_count": null,
   "metadata": {},
   "outputs": [],
   "source": [
    "\"\"\"\n",
    "seq_test shape: torch.Size([1, 29, 1662])\tres_shape: torch.Size([6]), \trest_try_shape: torch.Size([1, 6])\n",
    "---------------------------------------------------------------------------\n",
    "IndexError                                Traceback (most recent call last)\n",
    "<ipython-input-126-fb243666568e> in <module>\n",
    "    106 \n",
    "    107             #print(actions[np.argmax(res[1660])])\n",
    "--> 108             predictions.append(np.argmax(res[1660]))\n",
    "    109 \n",
    "    110             '''\n",
    "\n",
    "IndexError: index 1660 is out of bounds for dimension 0 with size 6\n",
    "\"\"\"\n",
    "\n",
    "\n",
    "\"\"\"\n",
    "prob viz 함수 에러\n",
    "---------------------------------------------------------------------------\n",
    "IndexError                                Traceback (most recent call last)\n",
    "<ipython-input-163-c6ae5e79cb46> in <module>\n",
    "    162 \n",
    "    163             # Viz probabilities\n",
    "--> 164             image = prob_viz(res, actions, image, colors)\n",
    "    165 \n",
    "    166         cv2.rectangle(image, (0,0), (640, 40), (245, 117, 16), -1)\n",
    "\n",
    "<ipython-input-162-a7a76ffccd69> in prob_viz(res, actions, input_frame, colors)\n",
    "      5     for num, prob in enumerate(res):\n",
    "      6         # rectangle(img, (start_x, start_y), (end_x, end_y), color, line_width, line종류, fractional bit)\n",
    "----> 7         cv2.rectangle(output_frame, (0,60+num*40), (int(prob*100), 90+num*40), colors[num], -1)\n",
    "      8         cv2.putText(output_frame, actions[num], (0, 85+num*40), cv2.FONT_HERSHEY_SIMPLEX, 1, (255,255,255), 2, cv2.LINE_AA)\n",
    "      9 \n",
    "\n",
    "IndexError: list index out of range\n",
    "\n",
    "\n",
    "\"\"\""
   ]
  },
  {
   "cell_type": "code",
   "execution_count": 167,
   "metadata": {},
   "outputs": [],
   "source": [
    "ct = gmtime(time())        \n",
    "\n",
    "# csv save\n",
    "_y = ct.tm_year\n",
    "_m = ct.tm_mon\n",
    "_d = ct.tm_mday\n",
    "\n",
    "_csv_name = str(_y) + str(_m) + str(_d) +'.csv'\n",
    "\n",
    "action_time_log.to_csv('../classify_result/' + _csv_name, header=True, index=True)"
   ]
  },
  {
   "cell_type": "code",
   "execution_count": null,
   "metadata": {},
   "outputs": [],
   "source": []
  }
 ],
 "metadata": {
  "kernelspec": {
   "display_name": "mp_220922_venv",
   "language": "python",
   "name": "mp_220922_venv"
  },
  "language_info": {
   "codemirror_mode": {
    "name": "ipython",
    "version": 3
   },
   "file_extension": ".py",
   "mimetype": "text/x-python",
   "name": "python",
   "nbconvert_exporter": "python",
   "pygments_lexer": "ipython3",
   "version": "3.6.10"
  }
 },
 "nbformat": 4,
 "nbformat_minor": 2
}
