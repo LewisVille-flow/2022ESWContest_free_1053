{
 "cells": [
  {
   "cell_type": "markdown",
   "id": "02a81124",
   "metadata": {},
   "source": [
    "# 모듈화 시도"
   ]
  },
  {
   "cell_type": "markdown",
   "id": "88350526",
   "metadata": {},
   "source": [
    "##  1. popup 연습"
   ]
  },
  {
   "cell_type": "code",
   "execution_count": 1,
   "id": "96dd32a7",
   "metadata": {},
   "outputs": [
    {
     "name": "stdout",
     "output_type": "stream",
     "text": [
      "5\n",
      "[1, 2, 3, 4]\n",
      "4\n",
      "[1, 2, 3]\n",
      "3\n",
      "[1, 2]\n",
      "2\n",
      "[1]\n",
      "1\n",
      "[]\n",
      "15\n",
      "[11, 12, 13, 14]\n",
      "14\n",
      "[11, 12, 13]\n",
      "13\n",
      "[11, 12]\n"
     ]
    }
   ],
   "source": [
    "a = [1, 2, 3, 4, 5]\n",
    "for i in range(len(a)):\n",
    "    print(a.pop())\n",
    "    print(a)\n",
    "\n",
    "b = [11, 12, 13, 14, 15]\n",
    "for i in b:\n",
    "    print(b.pop())\n",
    "    print(b)"
   ]
  },
  {
   "cell_type": "markdown",
   "id": "d4e113e5",
   "metadata": {},
   "source": [
    "## 2. 주소 입력 받으면 pop up 하는 모듈 - 완성"
   ]
  },
  {
   "cell_type": "code",
   "execution_count": 21,
   "id": "dd8de2f4",
   "metadata": {},
   "outputs": [],
   "source": [
    "'''\n",
    "    인풋:\n",
    "        1. 상위 디렉토리\n",
    "        2. 파일까지의 직접적인 디렉토리(코드가 접근해야하는. 예시로 입력)\n",
    "        3. 파일 확장자(모듈 실행시 구분을 위함)\n",
    "        \n",
    "    아웃풋:\n",
    "        1. 처음 동작: 리스트 제작 후 첫 번째 파일 디렉토리 popup\n",
    "        2. 이후 동작: 파일 디렉토리 pop up\n",
    "'''\n",
    "\n",
    "'''\n",
    "\n",
    "'../../AI_hub_second/video_action_3'\n",
    "'../../AI_hub_second/video_action_3/3-1/3-1_001-C01.mp4'\n",
    "OR\n",
    "'../../AI_hub_second/2020-jpg'\n",
    "'../../AI_hub_second/2020-jpg/Training/0011_M217M218/0011_M217M218_F_A_10162_10642/0011_M217M218_F_A_10162_10642_0000000.jpg'\n",
    "\n",
    "OR\n",
    "'../../AI_hub_second/2020'\n",
    "'../../AI_hub_second/2020/Training/0011_M217M218/0011_M217M218_F_A_10162_10642/0011_M217M218_F_A_10162_10642_0000000.json'\n",
    "\n",
    "OR\n",
    "'../../AI_hub_second/2020/Annotation_2D_tar/2D-1'\n",
    "'../../AI_hub_second/2020/Annotation_2D_tar/2D-1/2-1/2-1_001-C01_2D.json'\n",
    "\n",
    "OR\n",
    "'../../AI_hub_second/video_action_3/'\n",
    "'../../AI_hub_second/video_action_3/3-1/3-1_001-C01.mp4'\n",
    "\n",
    "'''\n",
    "\n",
    "import os\n",
    "import numpy as np\n",
    "import time\n",
    "\n",
    "\n",
    "class Directory_popup(object):\n",
    "    def __init__(self, in_dir, ex_dir, target_format):\n",
    "        \n",
    "        self._in_dir = in_dir\n",
    "        self._ex_dir = ex_dir\n",
    "        self._target_format = target_format\n",
    "        \n",
    "        self._target_list = []\n",
    "        \n",
    "        # Count '/', which means how deep it needs to dig in\n",
    "        _len_dir  = len(self._in_dir)\n",
    "        _diff_dir = self._ex_dir[_len_dir:]\n",
    "        \n",
    "        _count = _diff_dir.count('/')\n",
    "        # 2019 data ver -> _count = 2\n",
    "        # 2020 data ver -> _count = 4\n",
    "        \n",
    "        if _count == 2: # 3-1 3-2 3-3... 으로 폴더가 바로 나타나는 경우(2019)\n",
    "            _dir_1 = os.listdir(self._in_dir)\n",
    "            _folder_list = sorted(_dir_1)\n",
    "            print('1:' ,_folder_list)\n",
    "            \n",
    "            for fold in _folder_list:\n",
    "                _dir_2 = sorted(os.listdir(os.path.join(self._in_dir, fold)))\n",
    "                #print('2: ', _dir_2)\n",
    "                \n",
    "                for _each in _dir_2:\n",
    "                    self._target_list.append(os.path.join(self._in_dir, fold, _each))\n",
    "                    print('f:', self._target_list)\n",
    "                    time.sleep(0.1)\n",
    "            \n",
    "        elif _count == 4:\n",
    "            _dir_1 = os.listdir(self._in_dir)\n",
    "            \n",
    "            for i in _dir_1: # Training or Validation\n",
    "                _target_1 = i\n",
    "\n",
    "                _dir_2 = sorted(os.listdir(os.path.join(self._in_dir, _target_1)))\n",
    "                # print('2: ', _dir_2) # '0149_M416M417 ... '\n",
    "                \n",
    "                for M_folder in _dir_2:\n",
    "                    # Contains M000M000 folder names\n",
    "                    _dir_3 = sorted(os.listdir(os.path.join(self._in_dir, _target_1, M_folder)))\n",
    "                    \n",
    "                    # print('3: ', _dir_3) # '0149_M416M417_L_B_17542_18164 ...'\n",
    "                    \n",
    "                    for FLR_folder in _dir_3:\n",
    "                        if FLR_folder.find('F') != -1: # if there is no F then return -1\n",
    "\n",
    "                            _dir_4 = sorted(os.listdir(os.path.join(self._in_dir, _target_1, M_folder, FLR_folder)))\n",
    "                            # print('4: ', _dir_4)\n",
    "                            for _each in _dir_4:\n",
    "                                self._target_list.append(os.path.join(self._in_dir, _target_1, M_folder, FLR_folder, _each))\n",
    "                                #print(self._target_list)\n",
    "\n",
    "        print(self._target_list[4810])\n",
    "        print(_count)  \n",
    "        \n",
    "        self._target_list.reverse()\n",
    "        \n",
    "        \n",
    "        \n",
    "    def Dir_Pop_Up(self):\n",
    "        new_dir = self._target_list.pop()\n",
    "        \n",
    "        return new_dir\n"
   ]
  },
  {
   "cell_type": "markdown",
   "id": "d3760404",
   "metadata": {},
   "source": [
    "## 3. class 동작 시연"
   ]
  },
  {
   "cell_type": "code",
   "execution_count": 23,
   "id": "71512cf1",
   "metadata": {
    "scrolled": true
   },
   "outputs": [
    {
     "name": "stdout",
     "output_type": "stream",
     "text": [
      "2:  ['0142_M416M417', '0142_M420M421', '0142_M424M425', '0142_M428M429', '0142_M520M521', '0142_M524M525', '0142_M526M527', '0142_M528M529', '0142_M530M531', '0142_M532M533', '0149_M416M417', '0149_M420M421', '0149_M424M425', '0149_M428M429', '0149_M520M521', '0149_M524M525', '0149_M526M527', '0149_M528M529', '0149_M530M531', '0149_M532M533']\n",
      "2:  ['0011_M217M218', '0011_M219M220', '0011_M221M222', '0011_M223M224', '0011_M227M228', '0011_M229M230', '0011_M231M232', '0011_M235M236', '0011_M237M238', '0011_M239M240', '0011_M241M242', '0011_M245M246', '0011_M247M248', '0011_M249M250', '0011_M253M254', '0011_M255M256', '0011_M257M258', '0011_M259M260', '0011_M263M264', '0011_M265M266', '0011_M267M268', '0011_M271M272', '0011_M273M274', '0011_M275M276', '0011_M277M278', '0011_M281M282', '0011_M283M284', '0011_M285M286', '0011_M289M290', '0011_M291M292', '0011_M293M294', '0011_M297M298', '0011_M299M300', '0011_M301M302', '0011_M303M304', '0011_M307M413', '0011_M401M402', '0011_M403M404', '0011_M409M410', '0012_M217M218', '0012_M219M220', '0012_M221M222', '0012_M223M224', '0012_M227M228', '0012_M229M230', '0012_M231M232', '0012_M235M236', '0012_M237M238', '0012_M239M240', '0012_M241M242', '0012_M245M246', '0012_M247M248', '0012_M249M250', '0012_M253M254', '0012_M255M256', '0012_M257M258', '0012_M259M260', '0012_M263M264', '0012_M265M266', '0012_M267M268', '0012_M271M272', '0012_M273M274', '0012_M275M276', '0012_M279M280', '0012_M281M282', '0012_M283M284', '0012_M285M286', '0012_M289M290', '0012_M291M292', '0012_M293M294', '0012_M297M298', '0012_M299M300', '0012_M301M302', '0012_M303M304', '0012_M307M413', '0012_M401M402', '0012_M403M404', '0012_M409M410', '0142_M416M417', '0142_M420M421', '0142_M424M425', '0142_M428M429', '0142_M520M521', '0142_M524M525', '0142_M526M527', '0142_M528M529', '0142_M530M531', '0142_M532M533', '0149_M416M417', '0149_M420M421', '0149_M424M425', '0149_M428M429', '0149_M520M521', '0149_M524M525', '0149_M526M527', '0149_M528M529', '0149_M530M531', '0149_M532M533', '0156_M416M417', '0156_M420M421', '0156_M424M425', '0156_M428M429', '0156_M520M521', '0156_M524M525', '0156_M526M527', '0156_M528M529', '0156_M530M531', '0156_M532M533', '0163_M416M417', '0163_M420M421', '0163_M424M425', '0163_M428M429', '0163_M520M521', '0163_M524M525', '0163_M526M527', '0163_M528M529', '0163_M530M531', '0163_M532M533']\n",
      "../../AI_hub_second/2020/Training/0011_M247M248/0011_M247M248_F_A_10158_10638/0011_M247M248_F_A_10158_10638_0000245.json\n",
      "4\n",
      "../../AI_hub_second/2020/Validation/0142_M416M417/0142_M416M417_F_B_09096_09712/0142_M416M417_F_B_09096_09712_0000000.jpg.json\n",
      "../../AI_hub_second/2020/Validation/0142_M416M417/0142_M416M417_F_B_09096_09712/0142_M416M417_F_B_09096_09712_0000005.jpg.json\n",
      "../../AI_hub_second/2020/Validation/0142_M416M417/0142_M416M417_F_B_09096_09712/0142_M416M417_F_B_09096_09712_0000010.jpg.json\n",
      "../../AI_hub_second/2020/Validation/0142_M416M417/0142_M416M417_F_B_09096_09712/0142_M416M417_F_B_09096_09712_0000015.jpg.json\n",
      "../../AI_hub_second/2020/Validation/0142_M416M417/0142_M416M417_F_B_09096_09712/0142_M416M417_F_B_09096_09712_0000020.jpg.json\n",
      "../../AI_hub_second/2020/Validation/0142_M416M417/0142_M416M417_F_B_09096_09712/0142_M416M417_F_B_09096_09712_0000025.jpg.json\n",
      "../../AI_hub_second/2020/Validation/0142_M416M417/0142_M416M417_F_B_09096_09712/0142_M416M417_F_B_09096_09712_0000030.jpg.json\n",
      "../../AI_hub_second/2020/Validation/0142_M416M417/0142_M416M417_F_B_09096_09712/0142_M416M417_F_B_09096_09712_0000035.jpg.json\n",
      "../../AI_hub_second/2020/Validation/0142_M416M417/0142_M416M417_F_B_09096_09712/0142_M416M417_F_B_09096_09712_0000040.jpg.json\n",
      "../../AI_hub_second/2020/Validation/0142_M416M417/0142_M416M417_F_B_09096_09712/0142_M416M417_F_B_09096_09712_0000045.jpg.json\n",
      "../../AI_hub_second/2020/Validation/0142_M416M417/0142_M416M417_F_B_09096_09712/0142_M416M417_F_B_09096_09712_0000050.jpg.json\n",
      "../../AI_hub_second/2020/Validation/0142_M416M417/0142_M416M417_F_B_09096_09712/0142_M416M417_F_B_09096_09712_0000055.jpg.json\n",
      "../../AI_hub_second/2020/Validation/0142_M416M417/0142_M416M417_F_B_09096_09712/0142_M416M417_F_B_09096_09712_0000060.jpg.json\n",
      "../../AI_hub_second/2020/Validation/0142_M416M417/0142_M416M417_F_B_09096_09712/0142_M416M417_F_B_09096_09712_0000065.jpg.json\n",
      "../../AI_hub_second/2020/Validation/0142_M416M417/0142_M416M417_F_B_09096_09712/0142_M416M417_F_B_09096_09712_0000070.jpg.json\n",
      "../../AI_hub_second/2020/Validation/0142_M416M417/0142_M416M417_F_B_09096_09712/0142_M416M417_F_B_09096_09712_0000075.jpg.json\n",
      "../../AI_hub_second/2020/Validation/0142_M416M417/0142_M416M417_F_B_09096_09712/0142_M416M417_F_B_09096_09712_0000080.jpg.json\n",
      "../../AI_hub_second/2020/Validation/0142_M416M417/0142_M416M417_F_B_09096_09712/0142_M416M417_F_B_09096_09712_0000085.jpg.json\n",
      "../../AI_hub_second/2020/Validation/0142_M416M417/0142_M416M417_F_B_09096_09712/0142_M416M417_F_B_09096_09712_0000090.jpg.json\n",
      "../../AI_hub_second/2020/Validation/0142_M416M417/0142_M416M417_F_B_09096_09712/0142_M416M417_F_B_09096_09712_0000095.jpg.json\n",
      "../../AI_hub_second/2020/Validation/0142_M416M417/0142_M416M417_F_B_09096_09712/0142_M416M417_F_B_09096_09712_0000100.jpg.json\n",
      "../../AI_hub_second/2020/Validation/0142_M416M417/0142_M416M417_F_B_09096_09712/0142_M416M417_F_B_09096_09712_0000105.jpg.json\n",
      "../../AI_hub_second/2020/Validation/0142_M416M417/0142_M416M417_F_B_09096_09712/0142_M416M417_F_B_09096_09712_0000110.jpg.json\n",
      "../../AI_hub_second/2020/Validation/0142_M416M417/0142_M416M417_F_B_09096_09712/0142_M416M417_F_B_09096_09712_0000115.jpg.json\n",
      "../../AI_hub_second/2020/Validation/0142_M416M417/0142_M416M417_F_B_09096_09712/0142_M416M417_F_B_09096_09712_0000120.jpg.json\n",
      "../../AI_hub_second/2020/Validation/0142_M416M417/0142_M416M417_F_B_09096_09712/0142_M416M417_F_B_09096_09712_0000125.jpg.json\n",
      "../../AI_hub_second/2020/Validation/0142_M416M417/0142_M416M417_F_B_09096_09712/0142_M416M417_F_B_09096_09712_0000130.jpg.json\n",
      "../../AI_hub_second/2020/Validation/0142_M416M417/0142_M416M417_F_B_09096_09712/0142_M416M417_F_B_09096_09712_0000135.jpg.json\n",
      "../../AI_hub_second/2020/Validation/0142_M416M417/0142_M416M417_F_B_09096_09712/0142_M416M417_F_B_09096_09712_0000140.jpg.json\n",
      "../../AI_hub_second/2020/Validation/0142_M416M417/0142_M416M417_F_B_09096_09712/0142_M416M417_F_B_09096_09712_0000145.jpg.json\n",
      "../../AI_hub_second/2020/Validation/0142_M416M417/0142_M416M417_F_B_09096_09712/0142_M416M417_F_B_09096_09712_0000150.jpg.json\n",
      "../../AI_hub_second/2020/Validation/0142_M416M417/0142_M416M417_F_B_09096_09712/0142_M416M417_F_B_09096_09712_0000155.jpg.json\n",
      "../../AI_hub_second/2020/Validation/0142_M416M417/0142_M416M417_F_B_09096_09712/0142_M416M417_F_B_09096_09712_0000160.jpg.json\n",
      "../../AI_hub_second/2020/Validation/0142_M416M417/0142_M416M417_F_B_09096_09712/0142_M416M417_F_B_09096_09712_0000165.jpg.json\n",
      "../../AI_hub_second/2020/Validation/0142_M416M417/0142_M416M417_F_B_09096_09712/0142_M416M417_F_B_09096_09712_0000170.jpg.json\n",
      "../../AI_hub_second/2020/Validation/0142_M416M417/0142_M416M417_F_B_09096_09712/0142_M416M417_F_B_09096_09712_0000175.jpg.json\n",
      "../../AI_hub_second/2020/Validation/0142_M416M417/0142_M416M417_F_B_09096_09712/0142_M416M417_F_B_09096_09712_0000180.jpg.json\n",
      "../../AI_hub_second/2020/Validation/0142_M416M417/0142_M416M417_F_B_09096_09712/0142_M416M417_F_B_09096_09712_0000185.jpg.json\n",
      "../../AI_hub_second/2020/Validation/0142_M416M417/0142_M416M417_F_B_09096_09712/0142_M416M417_F_B_09096_09712_0000190.jpg.json\n",
      "../../AI_hub_second/2020/Validation/0142_M416M417/0142_M416M417_F_B_09096_09712/0142_M416M417_F_B_09096_09712_0000195.jpg.json\n",
      "../../AI_hub_second/2020/Validation/0142_M416M417/0142_M416M417_F_B_09096_09712/0142_M416M417_F_B_09096_09712_0000200.jpg.json\n",
      "../../AI_hub_second/2020/Validation/0142_M416M417/0142_M416M417_F_B_09096_09712/0142_M416M417_F_B_09096_09712_0000205.jpg.json\n",
      "../../AI_hub_second/2020/Validation/0142_M416M417/0142_M416M417_F_B_09096_09712/0142_M416M417_F_B_09096_09712_0000210.jpg.json\n",
      "../../AI_hub_second/2020/Validation/0142_M416M417/0142_M416M417_F_B_09096_09712/0142_M416M417_F_B_09096_09712_0000215.jpg.json\n",
      "../../AI_hub_second/2020/Validation/0142_M416M417/0142_M416M417_F_B_09096_09712/0142_M416M417_F_B_09096_09712_0000220.jpg.json\n",
      "../../AI_hub_second/2020/Validation/0142_M416M417/0142_M416M417_F_B_09096_09712/0142_M416M417_F_B_09096_09712_0000225.jpg.json\n"
     ]
    },
    {
     "name": "stdout",
     "output_type": "stream",
     "text": [
      "../../AI_hub_second/2020/Validation/0142_M416M417/0142_M416M417_F_B_09096_09712/0142_M416M417_F_B_09096_09712_0000230.jpg.json\n",
      "../../AI_hub_second/2020/Validation/0142_M416M417/0142_M416M417_F_B_09096_09712/0142_M416M417_F_B_09096_09712_0000235.jpg.json\n",
      "../../AI_hub_second/2020/Validation/0142_M416M417/0142_M416M417_F_B_09096_09712/0142_M416M417_F_B_09096_09712_0000240.jpg.json\n",
      "../../AI_hub_second/2020/Validation/0142_M416M417/0142_M416M417_F_B_09096_09712/0142_M416M417_F_B_09096_09712_0000245.jpg.json\n"
     ]
    }
   ],
   "source": [
    "_dir_1 = '../../AI_hub_second/2020'\n",
    "_dir_2 = '../../AI_hub_second/2020/Training/0011_M217M218/0011_M217M218_F_A_10162_10642/0011_M217M218_F_A_10162_10642_0000000.json'\n",
    "\n",
    "# _dir_1 = '../../AI_hub_second/video_action_3'\n",
    "# _dir_2 = '../../AI_hub_second/video_action_3/3-1/3-1_001-C01.mp4'\n",
    "\n",
    "A = Directory_popup(_dir_1, _dir_2, 'json')\n",
    "\n",
    "for i in range(50):\n",
    "    new_dir = A.Dir_Pop_Up()\n",
    "    print(new_dir)\n",
    "    time.sleep(0.1)\n"
   ]
  },
  {
   "cell_type": "markdown",
   "id": "b5042ef5",
   "metadata": {},
   "source": [
    "## 4. 잡다하게 몇가지 확인"
   ]
  },
  {
   "cell_type": "code",
   "execution_count": 14,
   "id": "d33b9823",
   "metadata": {},
   "outputs": [
    {
     "data": {
      "text/plain": [
       "'Training/0011_M217M218/0011_M217M218_F_A_10162_10642/0011_M217M218_F_A_10162_10642_0000000.json'"
      ]
     },
     "execution_count": 14,
     "metadata": {},
     "output_type": "execute_result"
    }
   ],
   "source": [
    "import os\n",
    "_target_1 = ''\n",
    "_dir_1 = '../../AI_hub_second/2020'\n",
    "#B = os.listdir(_dir_1)\n",
    "#B = sorted(B)\n",
    "#B[0]\n",
    "_dir_2 = '../../AI_hub_second/2020/Training/0011_M217M218/0011_M217M218_F_A_10162_10642/0011_M217M218_F_A_10162_10642_0000000.json'\n",
    "\n",
    "_len_dir  = len(_dir_1)\n",
    "#_diff_dir = self._ex_dir[]\n",
    "\n",
    "_len_dir = _dir_2[25:]\n",
    "_len_dir"
   ]
  },
  {
   "cell_type": "code",
   "execution_count": 17,
   "id": "f3e83dff",
   "metadata": {},
   "outputs": [
    {
     "data": {
      "text/plain": [
       "['Front', 'Left', 'Right']"
      ]
     },
     "execution_count": 17,
     "metadata": {},
     "output_type": "execute_result"
    }
   ],
   "source": [
    "a = ['Front', 'Left', 'Right']\n",
    "sorted(a)\n",
    "a"
   ]
  },
  {
   "cell_type": "code",
   "execution_count": null,
   "id": "dc0fa3e3",
   "metadata": {},
   "outputs": [],
   "source": []
  }
 ],
 "metadata": {
  "kernelspec": {
   "display_name": "Python 3",
   "language": "python",
   "name": "python3"
  },
  "language_info": {
   "codemirror_mode": {
    "name": "ipython",
    "version": 3
   },
   "file_extension": ".py",
   "mimetype": "text/x-python",
   "name": "python",
   "nbconvert_exporter": "python",
   "pygments_lexer": "ipython3",
   "version": "3.6.9"
  }
 },
 "nbformat": 4,
 "nbformat_minor": 5
}
