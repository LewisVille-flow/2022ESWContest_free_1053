{
 "cells": [
  {
   "cell_type": "markdown",
   "metadata": {},
   "source": [
    "# 0. Description\n",
    "This notebook is part of Pose Classification Application for children ADHD Detecting.\n",
    "\n",
    "Following contents will include\n",
    "    - Training code with Pytorch\n",
    "    - Training loss and validation loss matplot\n",
    "    - Early stopping to prevent overfitting\n",
    "    - visualizing else"
   ]
  },
  {
   "cell_type": "markdown",
   "metadata": {},
   "source": [
    "# 1. Setting"
   ]
  },
  {
   "cell_type": "code",
   "execution_count": 19,
   "metadata": {},
   "outputs": [
    {
     "name": "stdout",
     "output_type": "stream",
     "text": [
      "Requirement already satisfied: torch in /home/ubuntu/Action_Recognition/Baby-Action-Recognition/mp_env/lib/python3.6/site-packages (1.10.1)\n",
      "Requirement already satisfied: torchvision in /home/ubuntu/Action_Recognition/Baby-Action-Recognition/mp_env/lib/python3.6/site-packages (0.11.2)\n",
      "Requirement already satisfied: tqdm in /home/ubuntu/Action_Recognition/Baby-Action-Recognition/mp_env/lib/python3.6/site-packages (4.64.1)\n",
      "Requirement already satisfied: matplotlib in /home/ubuntu/Action_Recognition/Baby-Action-Recognition/mp_env/lib/python3.6/site-packages (3.3.4)\n",
      "Requirement already satisfied: mediapipe in /home/ubuntu/Action_Recognition/Baby-Action-Recognition/mp_env/lib/python3.6/site-packages (0.8.3)\n",
      "Requirement already satisfied: pandas in /home/ubuntu/Action_Recognition/Baby-Action-Recognition/mp_env/lib/python3.6/site-packages (1.1.5)\n",
      "Requirement already satisfied: dataclasses in /home/ubuntu/Action_Recognition/Baby-Action-Recognition/mp_env/lib/python3.6/site-packages (from torch) (0.8)\n",
      "Requirement already satisfied: typing-extensions in /home/ubuntu/Action_Recognition/Baby-Action-Recognition/mp_env/lib/python3.6/site-packages (from torch) (3.7.4.3)\n",
      "Requirement already satisfied: pillow!=8.3.0,>=5.3.0 in /home/ubuntu/Action_Recognition/Baby-Action-Recognition/mp_env/lib/python3.6/site-packages (from torchvision) (8.4.0)\n",
      "Requirement already satisfied: numpy in /home/ubuntu/Action_Recognition/Baby-Action-Recognition/mp_env/lib/python3.6/site-packages (from torchvision) (1.19.3)\n",
      "Requirement already satisfied: importlib-resources in /home/ubuntu/Action_Recognition/Baby-Action-Recognition/mp_env/lib/python3.6/site-packages (from tqdm) (5.4.0)\n",
      "Requirement already satisfied: kiwisolver>=1.0.1 in /home/ubuntu/Action_Recognition/Baby-Action-Recognition/mp_env/lib/python3.6/site-packages (from matplotlib) (1.3.1)\n",
      "Requirement already satisfied: pyparsing!=2.0.4,!=2.1.2,!=2.1.6,>=2.0.3 in /home/ubuntu/Action_Recognition/Baby-Action-Recognition/mp_env/lib/python3.6/site-packages (from matplotlib) (3.0.9)\n",
      "Requirement already satisfied: python-dateutil>=2.1 in /home/ubuntu/Action_Recognition/Baby-Action-Recognition/mp_env/lib/python3.6/site-packages (from matplotlib) (2.8.2)\n",
      "Requirement already satisfied: cycler>=0.10 in /home/ubuntu/Action_Recognition/Baby-Action-Recognition/mp_env/lib/python3.6/site-packages (from matplotlib) (0.11.0)\n",
      "Requirement already satisfied: attrs in /home/ubuntu/Action_Recognition/Baby-Action-Recognition/mp_env/lib/python3.6/site-packages (from mediapipe) (22.1.0)\n",
      "Requirement already satisfied: opencv-python in /home/ubuntu/Action_Recognition/Baby-Action-Recognition/mp_env/lib/python3.6/site-packages (from mediapipe) (4.6.0.66)\n",
      "Requirement already satisfied: protobuf>=3.11.4 in /home/ubuntu/Action_Recognition/Baby-Action-Recognition/mp_env/lib/python3.6/site-packages (from mediapipe) (3.19.4)\n",
      "Requirement already satisfied: six in /home/ubuntu/Action_Recognition/Baby-Action-Recognition/mp_env/lib/python3.6/site-packages (from mediapipe) (1.15.0)\n",
      "Requirement already satisfied: absl-py in /home/ubuntu/Action_Recognition/Baby-Action-Recognition/mp_env/lib/python3.6/site-packages (from mediapipe) (0.15.0)\n",
      "Requirement already satisfied: wheel in /home/ubuntu/Action_Recognition/Baby-Action-Recognition/mp_env/lib/python3.6/site-packages (from mediapipe) (0.37.1)\n",
      "Requirement already satisfied: pytz>=2017.2 in /home/ubuntu/Action_Recognition/Baby-Action-Recognition/mp_env/lib/python3.6/site-packages (from pandas) (2022.1)\n",
      "Requirement already satisfied: zipp>=3.1.0 in /home/ubuntu/Action_Recognition/Baby-Action-Recognition/mp_env/lib/python3.6/site-packages (from importlib-resources->tqdm) (3.6.0)\n"
     ]
    }
   ],
   "source": [
    "!pip install torch torchvision tqdm matplotlib mediapipe pandas"
   ]
  },
  {
   "cell_type": "code",
   "execution_count": 20,
   "metadata": {},
   "outputs": [
    {
     "name": "stdout",
     "output_type": "stream",
     "text": [
      "USING pyTorch Version: 1.10.1+cu102  Device: cpu\n"
     ]
    }
   ],
   "source": [
    "# Libraries\n",
    "import cv2\n",
    "import mediapipe as mp\n",
    "import numpy as np\n",
    "import matplotlib.pyplot as plt\n",
    "import torch\n",
    "import torch.nn as nn\n",
    "import torch.nn.functional as F\n",
    "import torchvision\n",
    "import torchvision.transforms as transforms\n",
    "import math\n",
    "from tqdm import tqdm\n",
    "import os\n",
    "\n",
    "from sklearn.model_selection import train_test_split\n",
    "from tensorflow.keras.utils import to_categorical\n",
    "\n",
    "from torch.optim import lr_scheduler\n",
    "from torch.utils.data import DataLoader, Dataset\n",
    "\n",
    "from sklearn.model_selection import train_test_split\n",
    "from tensorflow.keras.utils import to_categorical\n",
    "\n",
    "if torch.cuda.is_available():\n",
    "    DEVICE = torch.device('cuda')\n",
    "else:\n",
    "    DEVICE = torch.device('cpu')\n",
    "\n",
    "print('USING pyTorch Version:', torch.__version__, ' Device:', DEVICE)\n",
    "\n",
    "mp_holistic = mp.solutions.holistic # Holistic model\n",
    "mp_drawing = mp.solutions.drawing_utils # Drawing utilities"
   ]
  },
  {
   "cell_type": "code",
   "execution_count": 21,
   "metadata": {},
   "outputs": [],
   "source": [
    "# Mediapipe function setting\n",
    "\n",
    "def mediapipe_detection(image, model):\n",
    "    image = cv2.cvtColor(image, cv2.COLOR_BGR2RGB) # COLOR CONVERSION BGR 2 RGB\n",
    "    image.flags.writeable = False                  # Image is no longer writeable\n",
    "    results = model.process(image)                 # Make prediction\n",
    "    image.flags.writeable = True                   # Image is now writeable \n",
    "    image = cv2.cvtColor(image, cv2.COLOR_RGB2BGR) # COLOR COVERSION RGB 2 BGR\n",
    "    return image, results\n",
    "\n",
    "\n",
    "def draw_landmarks(image, results):\n",
    "    mp_drawing.draw_landmarks(image, results.face_landmarks, mp_holistic.FACE_CONNECTIONS) # Draw face connections\n",
    "    mp_drawing.draw_landmarks(image, results.pose_landmarks, mp_holistic.POSE_CONNECTIONS) # Draw pose connections\n",
    "    mp_drawing.draw_landmarks(image, results.left_hand_landmarks, mp_holistic.HAND_CONNECTIONS) # Draw left hand connections\n",
    "    mp_drawing.draw_landmarks(image, results.right_hand_landmarks, mp_holistic.HAND_CONNECTIONS) # Draw right hand connections\n",
    "    \n",
    "def draw_styled_landmarks(image, results):\n",
    "    # Draw face connections\n",
    "    mp_drawing.draw_landmarks(image, results.face_landmarks, mp_holistic.FACE_CONNECTIONS, \n",
    "                             mp_drawing.DrawingSpec(color=(80,110,10), thickness=1, circle_radius=1), \n",
    "                             mp_drawing.DrawingSpec(color=(80,256,121), thickness=1, circle_radius=1)\n",
    "                             ) \n",
    "    # Draw pose connections\n",
    "    mp_drawing.draw_landmarks(image, results.pose_landmarks, mp_holistic.POSE_CONNECTIONS,\n",
    "                             mp_drawing.DrawingSpec(color=(80,22,10), thickness=2, circle_radius=4), \n",
    "                             mp_drawing.DrawingSpec(color=(80,44,121), thickness=2, circle_radius=2)\n",
    "                             ) \n",
    "    # Draw left hand connections\n",
    "    mp_drawing.draw_landmarks(image, results.left_hand_landmarks, mp_holistic.HAND_CONNECTIONS, \n",
    "                             mp_drawing.DrawingSpec(color=(121,22,76), thickness=2, circle_radius=4), \n",
    "                             mp_drawing.DrawingSpec(color=(121,44,250), thickness=2, circle_radius=2)\n",
    "                             ) \n",
    "    # Draw right hand connections  \n",
    "    mp_drawing.draw_landmarks(image, results.right_hand_landmarks, mp_holistic.HAND_CONNECTIONS, \n",
    "                             mp_drawing.DrawingSpec(color=(245,117,66), thickness=2, circle_radius=4), \n",
    "                             mp_drawing.DrawingSpec(color=(245,66,230), thickness=2, circle_radius=2)\n",
    "                             ) \n",
    "    \n",
    "def extract_keypoints(results):\n",
    "    pose = np.array([[res.x, res.y, res.z, res.visibility] for res in results.pose_landmarks.landmark]).flatten() if results.pose_landmarks else np.zeros(33*4)\n",
    "    face = np.array([[res.x, res.y, res.z] for res in results.face_landmarks.landmark]).flatten() if results.face_landmarks else np.zeros(468*3)\n",
    "    lh = np.array([[res.x, res.y, res.z] for res in results.left_hand_landmarks.landmark]).flatten() if results.left_hand_landmarks else np.zeros(21*3)\n",
    "    rh = np.array([[res.x, res.y, res.z] for res in results.right_hand_landmarks.landmark]).flatten() if results.right_hand_landmarks else np.zeros(21*3)\n",
    "    return np.concatenate([pose, face, lh, rh])\n",
    "\n",
    "## 얘는 한 프레임에 pose, face, lh, rh 가 한 행에 다 flatten 되어있는 형태로 만들어짐."
   ]
  },
  {
   "cell_type": "markdown",
   "metadata": {},
   "source": [
    "# 2. Data Loading and Preprocessing"
   ]
  },
  {
   "cell_type": "code",
   "execution_count": 22,
   "metadata": {},
   "outputs": [
    {
     "name": "stdout",
     "output_type": "stream",
     "text": [
      "X shape is: (180, 1662, 29) \n",
      "y shape is: (180, 6)\n"
     ]
    }
   ],
   "source": [
    "# Setup for X, y\n",
    "\n",
    "# Actions that we try to detect\n",
    "actions = np.array(['sitting', 'standing','walking','running','kicking','punching'])\n",
    "\n",
    "# Data path\n",
    "DATA_PATH = os.path.join('../video_training') \n",
    "\n",
    "# y setting\n",
    "label_map = {label:num for num, label in enumerate(actions)}\n",
    "\n",
    "# X and y setting\n",
    "sequences, labels = [], []\n",
    "for action in actions:\n",
    "    for sequence in np.array(os.listdir(os.path.join(DATA_PATH, action))).astype(int):\n",
    "        window = []\n",
    "        for frame_num in range(1, 30):\n",
    "            res = np.load(os.path.join(DATA_PATH, action, str(sequence), \"{}.npy\".format(frame_num)))\n",
    "            window.append(res)\n",
    "        sequences.append(window)\n",
    "        labels.append(label_map[action])\n",
    "        \n",
    "X = np.array(sequences)\n",
    "y = to_categorical(labels).astype(int)\n",
    "\n",
    "# ??? 왜 해야하는지 모르겠다. 연산에서 사이즈 안맞아서 이렇게 했다.\n",
    "X = X.swapaxes(1,2)\n",
    "print(\"X shape is: {} \\ny shape is: {}\".format(X.shape, y.shape))"
   ]
  },
  {
   "cell_type": "code",
   "execution_count": 23,
   "metadata": {},
   "outputs": [
    {
     "name": "stdout",
     "output_type": "stream",
     "text": [
      "train X shape: (162, 1662, 29) \ttest X shape: (18, 1662, 29)\n",
      "train y shape: (162, 6) \ttest y shape: (18, 6)\n"
     ]
    }
   ],
   "source": [
    "# train test split\n",
    "\n",
    "## x is (180, 1662, 29), 180 = 30 folders for 6 actions.\n",
    "## last 3 folders will become test data.\n",
    "\n",
    "train_dataset_x = X[0:27]\n",
    "train_dataset_y = y[0:27]\n",
    "\n",
    "test_dataset_x = X[27:30]\n",
    "test_dataset_y = y[27:30]\n",
    "\n",
    "for i in range(2,7):\n",
    "    train_dataset_x = np.concatenate((train_dataset_x, X[(i-1)*30:i*30-3]), axis = 0)\n",
    "    train_dataset_y = np.concatenate((train_dataset_y, y[(i-1)*30:i*30-3]), axis = 0)\n",
    "   \n",
    "    test_dataset_x = np.concatenate((test_dataset_x, X[i*30-3:i*30]), axis = 0)\n",
    "    test_dataset_y = np.concatenate((test_dataset_y, y[i*30-3:i*30]), axis = 0)\n",
    "\n",
    "print(\"train X shape: {} \\ttest X shape: {}\".format(train_dataset_x.shape, test_dataset_x.shape))\n",
    "print(\"train y shape: {} \\ttest y shape: {}\".format(train_dataset_y.shape, test_dataset_y.shape))"
   ]
  },
  {
   "cell_type": "code",
   "execution_count": 24,
   "metadata": {},
   "outputs": [],
   "source": [
    "\n",
    "from torch.utils.data import DataLoader\n",
    "input_size = 29\n",
    "batch_size = 27\n",
    "num_layers = 1\n",
    "hidden_size = 64\n",
    "output_size = actions.shape[0]\n",
    "\n",
    "# 아래를 왜 하는지 알아보자 추후에.\n",
    "train_dataset_x = torch.tensor(train_dataset_x, dtype=torch.float32)\n",
    "train_dataset_y = torch.tensor(train_dataset_y, dtype=torch.long)\n",
    "\n",
    "test_dataset_x = torch.tensor(test_dataset_x, dtype=torch.float32)\n",
    "test_dataset_y = torch.tensor(test_dataset_y, dtype=torch.long)\n",
    "\n",
    "train_dataset = torch.utils.data.TensorDataset(train_dataset_x, train_dataset_y)\n",
    "test_dataset = torch.utils.data.TensorDataset(test_dataset_x, test_dataset_y)\n",
    "\n",
    "train_dataloader = DataLoader(train_dataset, batch_size=batch_size, shuffle=False)\n",
    "test_dataloader = DataLoader(test_dataset, batch_size=batch_size, shuffle=False)\n",
    "\n",
    "\n",
    "\n",
    "\n",
    "class BaseModel(nn.Module):\n",
    "    def __init__(self):\n",
    "        super(BaseModel, self).__init__()\n",
    "        self.device = DEVICE\n",
    "        self.hidden_size = hidden_size\n",
    "        self.num_layers = num_layers\n",
    "        self.rnn = nn.RNN(input_size, hidden_size, num_layers, batch_first=True)\n",
    "        self.fc = nn.Sequential(nn.Linear(hidden_size, output_size), \n",
    "                                nn.Sigmoid())\n",
    "        # LSTM = input_size, hidden_size, num_layers, bias, batch_first, dropout, bidirectional\n",
    "        #self.LSTM_1 = nn.LSTM(29, 64, 1)\n",
    "        #self.fc = nn.Linear(64, actions.shape[0])\n",
    "        \n",
    "    def forward(self, x):\n",
    "        h0 = torch.zeros(self.num_layers, x.size()[0], self.hidden_size)# 초기 hidden state 설정하기.\n",
    "            # h0.shape # torch.Size([num_layer, batch_size, hidden_size])\n",
    "        out, _ = self.rnn(x, h0) # out: RNN의 마지막 레이어로부터 나온 output feature 를 반환한다. hn: hidden state를 반환한다.\n",
    "        #print(\"out's shape: {}\".format(out.shape))\n",
    "        #out = out.reshape(out.shape[0], -1) # many to many 전략\n",
    "        \n",
    "        out = self.fc(out)\n",
    "        return out\n",
    "\n",
    "model = BaseModel()"
   ]
  },
  {
   "cell_type": "markdown",
   "metadata": {},
   "source": [
    "# 3. DL model setting and training"
   ]
  },
  {
   "cell_type": "code",
   "execution_count": 7,
   "metadata": {},
   "outputs": [
    {
     "name": "stderr",
     "output_type": "stream",
     "text": [
      "100%|██████████| 6/6 [00:01<00:00,  3.65it/s]\n"
     ]
    },
    {
     "name": "stdout",
     "output_type": "stream",
     "text": [
      "[epoch: 0] loss: 7.4088\n"
     ]
    },
    {
     "name": "stderr",
     "output_type": "stream",
     "text": [
      "100%|██████████| 6/6 [00:01<00:00,  4.25it/s]\n",
      " 33%|███▎      | 2/6 [00:00<00:01,  2.78it/s]\n"
     ]
    },
    {
     "ename": "KeyboardInterrupt",
     "evalue": "",
     "output_type": "error",
     "traceback": [
      "\u001b[0;31m---------------------------------------------------------------------------\u001b[0m",
      "\u001b[0;31mKeyboardInterrupt\u001b[0m                         Traceback (most recent call last)",
      "\u001b[0;32m<ipython-input-7-7bcff7b67176>\u001b[0m in \u001b[0;36m<module>\u001b[0;34m\u001b[0m\n\u001b[1;32m     30\u001b[0m \u001b[0;34m\u001b[0m\u001b[0m\n\u001b[1;32m     31\u001b[0m         \u001b[0mloss\u001b[0m \u001b[0;34m=\u001b[0m \u001b[0mcriterion\u001b[0m\u001b[0;34m(\u001b[0m\u001b[0mout\u001b[0m\u001b[0;34m,\u001b[0m \u001b[0mtarget\u001b[0m\u001b[0;34m)\u001b[0m \u001b[0;31m# output 가지고 loss 구하고,\u001b[0m\u001b[0;34m\u001b[0m\u001b[0;34m\u001b[0m\u001b[0m\n\u001b[0;32m---> 32\u001b[0;31m         \u001b[0mloss\u001b[0m\u001b[0;34m.\u001b[0m\u001b[0mbackward\u001b[0m\u001b[0;34m(\u001b[0m\u001b[0;34m)\u001b[0m \u001b[0;31m# loss가 최소가 되게하는\u001b[0m\u001b[0;34m\u001b[0m\u001b[0;34m\u001b[0m\u001b[0m\n\u001b[0m\u001b[1;32m     33\u001b[0m \u001b[0;34m\u001b[0m\u001b[0m\n\u001b[1;32m     34\u001b[0m         \u001b[0moptimizer\u001b[0m\u001b[0;34m.\u001b[0m\u001b[0mstep\u001b[0m\u001b[0;34m(\u001b[0m\u001b[0;34m)\u001b[0m \u001b[0;31m# 가중치 업데이트 해주고,\u001b[0m\u001b[0;34m\u001b[0m\u001b[0;34m\u001b[0m\u001b[0m\n",
      "\u001b[0;32m~/Action_Recognition/Baby-Action-Recognition/mp_env/lib/python3.6/site-packages/torch/_tensor.py\u001b[0m in \u001b[0;36mbackward\u001b[0;34m(self, gradient, retain_graph, create_graph, inputs)\u001b[0m\n\u001b[1;32m    305\u001b[0m                 \u001b[0mcreate_graph\u001b[0m\u001b[0;34m=\u001b[0m\u001b[0mcreate_graph\u001b[0m\u001b[0;34m,\u001b[0m\u001b[0;34m\u001b[0m\u001b[0;34m\u001b[0m\u001b[0m\n\u001b[1;32m    306\u001b[0m                 inputs=inputs)\n\u001b[0;32m--> 307\u001b[0;31m         \u001b[0mtorch\u001b[0m\u001b[0;34m.\u001b[0m\u001b[0mautograd\u001b[0m\u001b[0;34m.\u001b[0m\u001b[0mbackward\u001b[0m\u001b[0;34m(\u001b[0m\u001b[0mself\u001b[0m\u001b[0;34m,\u001b[0m \u001b[0mgradient\u001b[0m\u001b[0;34m,\u001b[0m \u001b[0mretain_graph\u001b[0m\u001b[0;34m,\u001b[0m \u001b[0mcreate_graph\u001b[0m\u001b[0;34m,\u001b[0m \u001b[0minputs\u001b[0m\u001b[0;34m=\u001b[0m\u001b[0minputs\u001b[0m\u001b[0;34m)\u001b[0m\u001b[0;34m\u001b[0m\u001b[0;34m\u001b[0m\u001b[0m\n\u001b[0m\u001b[1;32m    308\u001b[0m \u001b[0;34m\u001b[0m\u001b[0m\n\u001b[1;32m    309\u001b[0m     \u001b[0;32mdef\u001b[0m \u001b[0mregister_hook\u001b[0m\u001b[0;34m(\u001b[0m\u001b[0mself\u001b[0m\u001b[0;34m,\u001b[0m \u001b[0mhook\u001b[0m\u001b[0;34m)\u001b[0m\u001b[0;34m:\u001b[0m\u001b[0;34m\u001b[0m\u001b[0;34m\u001b[0m\u001b[0m\n",
      "\u001b[0;32m~/Action_Recognition/Baby-Action-Recognition/mp_env/lib/python3.6/site-packages/torch/autograd/__init__.py\u001b[0m in \u001b[0;36mbackward\u001b[0;34m(tensors, grad_tensors, retain_graph, create_graph, grad_variables, inputs)\u001b[0m\n\u001b[1;32m    154\u001b[0m     Variable._execution_engine.run_backward(\n\u001b[1;32m    155\u001b[0m         \u001b[0mtensors\u001b[0m\u001b[0;34m,\u001b[0m \u001b[0mgrad_tensors_\u001b[0m\u001b[0;34m,\u001b[0m \u001b[0mretain_graph\u001b[0m\u001b[0;34m,\u001b[0m \u001b[0mcreate_graph\u001b[0m\u001b[0;34m,\u001b[0m \u001b[0minputs\u001b[0m\u001b[0;34m,\u001b[0m\u001b[0;34m\u001b[0m\u001b[0;34m\u001b[0m\u001b[0m\n\u001b[0;32m--> 156\u001b[0;31m         allow_unreachable=True, accumulate_grad=True)  # allow_unreachable flag\n\u001b[0m\u001b[1;32m    157\u001b[0m \u001b[0;34m\u001b[0m\u001b[0m\n\u001b[1;32m    158\u001b[0m \u001b[0;34m\u001b[0m\u001b[0m\n",
      "\u001b[0;31mKeyboardInterrupt\u001b[0m: "
     ]
    }
   ],
   "source": [
    "from tqdm import tqdm\n",
    "from torch.utils.data import Dataset, DataLoader\n",
    "\n",
    "lr = 1e-3\n",
    "\n",
    "criterion = torch.nn.CrossEntropyLoss()\n",
    "optimizer = torch.optim.Adam(model.parameters(), lr=lr)\n",
    "min_loss = np.Inf\n",
    "\n",
    "num_epochs = 100\n",
    "\n",
    "loss_graph = [] # 그래프 그릴 목적인 loss.\n",
    "n = len(train_dataloader)\n",
    "\n",
    "model.train()\n",
    "for epoch in range(num_epochs):\n",
    "    running_loss = 0.0\n",
    "    n_batches = 0\n",
    "    \n",
    "    for data in tqdm(train_dataloader):\n",
    "        #print(\"epoch: {}\".format(epoch))\n",
    "        seq, target = data # 배치 데이터.\n",
    "        #print(\"seq type: {} \\tseq shape:\")\n",
    "        #print('seq shape: {} \\ttarget shape: {}'.format(seq.shape, target.shape))\n",
    "            # seq shape: torch.Size([10, 29, 1662]) \n",
    "            # target shape: torch.Size([10, 6])\n",
    "        \n",
    "        optimizer.zero_grad() # \n",
    "        out = model(seq)   # 모델에 넣고,\n",
    "        \n",
    "        loss = criterion(out, target) # output 가지고 loss 구하고,        \n",
    "        loss.backward() # loss가 최소가 되게하는\n",
    "        \n",
    "        optimizer.step() # 가중치 업데이트 해주고,\n",
    "        running_loss += loss.item() # 한 배치의 loss 더해주고,\n",
    "        \n",
    "        n_batches +=1\n",
    "        \n",
    "    running_loss /= n_batches\n",
    "    loss_graph.append(running_loss)\n",
    "    \n",
    "    if(epoch % 10 == 0):\n",
    "        print('[epoch: %d] loss: %.4f'%(epoch, running_loss))"
   ]
  },
  {
   "cell_type": "code",
   "execution_count": 25,
   "metadata": {},
   "outputs": [
    {
     "data": {
      "image/png": "[encoded data removed]",
      "text/plain": [
       "<Figure size 1440x720 with 1 Axes>"
      ]
     },
     "metadata": {
      "needs_background": "light"
     },
     "output_type": "display_data"
    }
   ],
   "source": [
    "plt.figure(figsize=(20,10))\n",
    "plt.plot(loss_graph)\n",
    "plt.show()"
   ]
  },
  {
   "cell_type": "markdown",
   "metadata": {},
   "source": [
    "# 4. Model save and Test"
   ]
  },
  {
   "cell_type": "code",
   "execution_count": 26,
   "metadata": {},
   "outputs": [],
   "source": [
    "# model save\n",
    "from time import time, gmtime, localtime\n",
    "\n",
    "_time = time()\n",
    "_time = gmtime(_time)\n",
    "\n",
    "_h5_file_name = '../model/RNN_ver' + str(_time.tm_mon) + str(_time.tm_mday) + '.pt'\n",
    "_h5_file_name\n",
    "\n",
    "torch.save(model.state_dict(), _h5_file_name)"
   ]
  },
  {
   "cell_type": "code",
   "execution_count": 27,
   "metadata": {},
   "outputs": [
    {
     "data": {
      "text/plain": [
       "<All keys matched successfully>"
      ]
     },
     "execution_count": 27,
     "metadata": {},
     "output_type": "execute_result"
    }
   ],
   "source": [
    "# model load\n",
    "\n",
    "model = BaseModel()\n",
    "model.load_state_dict(torch.load('../model/RNN_ver928.pt'))"
   ]
  },
  {
   "cell_type": "code",
   "execution_count": 28,
   "metadata": {},
   "outputs": [],
   "source": [
    "# predict function\n",
    "\n",
    "## set the Test function\n",
    "\n",
    "def predict_oneframe(image): # for just one frame prediction\n",
    "    '''\n",
    "    criterion = nn.CrossEntropyLoss()\n",
    "    model = model.to(DEVICE)\n",
    "    '''\n",
    "    #model.eval()\n",
    "\n",
    "    correct = 0\n",
    "    predict = 0\n",
    "    cost = 0\n",
    "    n_batches = 0\n",
    "    loss_evaluate = 0\n",
    "    \n",
    "    model.eval()\n",
    "    \n",
    "    with torch.no_grad():\n",
    "        #image = image.to(DEVICE)\n",
    "        \n",
    "        y_hat = model(image)\n",
    "        y_hat.argmax()\n",
    "        \n",
    "    return y_hat"
   ]
  },
  {
   "cell_type": "code",
   "execution_count": 11,
   "metadata": {},
   "outputs": [
    {
     "data": {
      "text/plain": [
       "'_max_count = np.zeros(6)\\n\\nfor i in range(0, 1662):\\n    _max_idx = np.argmax(res[i])\\n    #print(\"max idx : \", type(_max_idx))\\n    _max_count[_max_idx] += 1\\n\\n    \\nprint(\"result: \", _max_count)\\n'"
      ]
     },
     "execution_count": 11,
     "metadata": {},
     "output_type": "execute_result"
    }
   ],
   "source": [
    "'''_max_count = np.zeros(6)\n",
    "\n",
    "for i in range(0, 1662):\n",
    "    _max_idx = np.argmax(res[i])\n",
    "    #print(\"max idx : \", type(_max_idx))\n",
    "    _max_count[_max_idx] += 1\n",
    "\n",
    "    \n",
    "print(\"result: \", _max_count)\n",
    "'''"
   ]
  },
  {
   "cell_type": "code",
   "execution_count": 29,
   "metadata": {
    "scrolled": true
   },
   "outputs": [
    {
     "name": "stdout",
     "output_type": "stream",
     "text": [
      "sitting\n",
      "sitting\n",
      "sitting\n",
      "sitting\n",
      "sitting\n",
      "sitting\n",
      "sitting\n",
      "sitting\n",
      "sitting\n",
      "sitting\n",
      "sitting\n",
      "sitting\n",
      "sitting\n",
      "sitting\n",
      "sitting\n",
      "sitting\n",
      "sitting\n",
      "sitting\n",
      "sitting\n",
      "sitting\n",
      "sitting\n",
      "sitting\n",
      "sitting\n",
      "sitting\n",
      "sitting\n",
      "sitting\n",
      "sitting\n",
      "sitting\n",
      "sitting\n",
      "sitting\n",
      "sitting\n",
      "sitting\n",
      "sitting\n",
      "sitting\n",
      "sitting\n",
      "sitting\n",
      "sitting\n",
      "sitting\n",
      "sitting\n",
      "sitting\n",
      "sitting\n",
      "sitting\n",
      "sitting\n",
      "sitting\n",
      "sitting\n"
     ]
    },
    {
     "ename": "KeyboardInterrupt",
     "evalue": "",
     "output_type": "error",
     "traceback": [
      "\u001b[0;31m---------------------------------------------------------------------------\u001b[0m",
      "\u001b[0;31mKeyboardInterrupt\u001b[0m                         Traceback (most recent call last)",
      "\u001b[0;32m<ipython-input-29-2329a7c9f2aa>\u001b[0m in \u001b[0;36m<module>\u001b[0;34m\u001b[0m\n\u001b[1;32m     79\u001b[0m             \u001b[0;31m#print(type(sequence_test))\u001b[0m\u001b[0;34m\u001b[0m\u001b[0;34m\u001b[0m\u001b[0;34m\u001b[0m\u001b[0m\n\u001b[1;32m     80\u001b[0m                 \u001b[0;31m# sequence_test type is numpy.ndarray\u001b[0m\u001b[0;34m\u001b[0m\u001b[0;34m\u001b[0m\u001b[0;34m\u001b[0m\u001b[0m\n\u001b[0;32m---> 81\u001b[0;31m             \u001b[0mres\u001b[0m \u001b[0;34m=\u001b[0m \u001b[0mpredict_oneframe\u001b[0m\u001b[0;34m(\u001b[0m\u001b[0msequence_test\u001b[0m\u001b[0;34m)\u001b[0m\u001b[0;34m[\u001b[0m\u001b[0;36m0\u001b[0m\u001b[0;34m]\u001b[0m\u001b[0;34m\u001b[0m\u001b[0;34m\u001b[0m\u001b[0m\n\u001b[0m\u001b[1;32m     82\u001b[0m                 \u001b[0;31m# predict_oneframe shape:          torch.Size([1, 1662, 6])\u001b[0m\u001b[0;34m\u001b[0m\u001b[0;34m\u001b[0m\u001b[0;34m\u001b[0m\u001b[0m\n\u001b[1;32m     83\u001b[0m \u001b[0;34m\u001b[0m\u001b[0m\n",
      "\u001b[0;32m<ipython-input-28-bff1b5f1ad94>\u001b[0m in \u001b[0;36mpredict_oneframe\u001b[0;34m(image)\u001b[0m\n\u001b[1;32m     21\u001b[0m         \u001b[0;31m#image = image.to(DEVICE)\u001b[0m\u001b[0;34m\u001b[0m\u001b[0;34m\u001b[0m\u001b[0;34m\u001b[0m\u001b[0m\n\u001b[1;32m     22\u001b[0m \u001b[0;34m\u001b[0m\u001b[0m\n\u001b[0;32m---> 23\u001b[0;31m         \u001b[0my_hat\u001b[0m \u001b[0;34m=\u001b[0m \u001b[0mmodel\u001b[0m\u001b[0;34m(\u001b[0m\u001b[0mimage\u001b[0m\u001b[0;34m)\u001b[0m\u001b[0;34m\u001b[0m\u001b[0;34m\u001b[0m\u001b[0m\n\u001b[0m\u001b[1;32m     24\u001b[0m         \u001b[0my_hat\u001b[0m\u001b[0;34m.\u001b[0m\u001b[0margmax\u001b[0m\u001b[0;34m(\u001b[0m\u001b[0;34m)\u001b[0m\u001b[0;34m\u001b[0m\u001b[0;34m\u001b[0m\u001b[0m\n\u001b[1;32m     25\u001b[0m \u001b[0;34m\u001b[0m\u001b[0m\n",
      "\u001b[0;32m~/Action_Recognition/Baby-Action-Recognition/mp_env/lib/python3.6/site-packages/torch/nn/modules/module.py\u001b[0m in \u001b[0;36m_call_impl\u001b[0;34m(self, *input, **kwargs)\u001b[0m\n\u001b[1;32m   1100\u001b[0m         if not (self._backward_hooks or self._forward_hooks or self._forward_pre_hooks or _global_backward_hooks\n\u001b[1;32m   1101\u001b[0m                 or _global_forward_hooks or _global_forward_pre_hooks):\n\u001b[0;32m-> 1102\u001b[0;31m             \u001b[0;32mreturn\u001b[0m \u001b[0mforward_call\u001b[0m\u001b[0;34m(\u001b[0m\u001b[0;34m*\u001b[0m\u001b[0minput\u001b[0m\u001b[0;34m,\u001b[0m \u001b[0;34m**\u001b[0m\u001b[0mkwargs\u001b[0m\u001b[0;34m)\u001b[0m\u001b[0;34m\u001b[0m\u001b[0;34m\u001b[0m\u001b[0m\n\u001b[0m\u001b[1;32m   1103\u001b[0m         \u001b[0;31m# Do not call functions when jit is used\u001b[0m\u001b[0;34m\u001b[0m\u001b[0;34m\u001b[0m\u001b[0;34m\u001b[0m\u001b[0m\n\u001b[1;32m   1104\u001b[0m         \u001b[0mfull_backward_hooks\u001b[0m\u001b[0;34m,\u001b[0m \u001b[0mnon_full_backward_hooks\u001b[0m \u001b[0;34m=\u001b[0m \u001b[0;34m[\u001b[0m\u001b[0;34m]\u001b[0m\u001b[0;34m,\u001b[0m \u001b[0;34m[\u001b[0m\u001b[0;34m]\u001b[0m\u001b[0;34m\u001b[0m\u001b[0;34m\u001b[0m\u001b[0m\n",
      "\u001b[0;32m<ipython-input-24-8bcd350bd4ce>\u001b[0m in \u001b[0;36mforward\u001b[0;34m(self, x)\u001b[0m\n\u001b[1;32m     38\u001b[0m         \u001b[0mh0\u001b[0m \u001b[0;34m=\u001b[0m \u001b[0mtorch\u001b[0m\u001b[0;34m.\u001b[0m\u001b[0mzeros\u001b[0m\u001b[0;34m(\u001b[0m\u001b[0mself\u001b[0m\u001b[0;34m.\u001b[0m\u001b[0mnum_layers\u001b[0m\u001b[0;34m,\u001b[0m \u001b[0mx\u001b[0m\u001b[0;34m.\u001b[0m\u001b[0msize\u001b[0m\u001b[0;34m(\u001b[0m\u001b[0;34m)\u001b[0m\u001b[0;34m[\u001b[0m\u001b[0;36m0\u001b[0m\u001b[0;34m]\u001b[0m\u001b[0;34m,\u001b[0m \u001b[0mself\u001b[0m\u001b[0;34m.\u001b[0m\u001b[0mhidden_size\u001b[0m\u001b[0;34m)\u001b[0m\u001b[0;31m# 초기 hidden state 설정하기.\u001b[0m\u001b[0;34m\u001b[0m\u001b[0;34m\u001b[0m\u001b[0m\n\u001b[1;32m     39\u001b[0m             \u001b[0;31m# h0.shape # torch.Size([num_layer, batch_size, hidden_size])\u001b[0m\u001b[0;34m\u001b[0m\u001b[0;34m\u001b[0m\u001b[0;34m\u001b[0m\u001b[0m\n\u001b[0;32m---> 40\u001b[0;31m         \u001b[0mout\u001b[0m\u001b[0;34m,\u001b[0m \u001b[0m_\u001b[0m \u001b[0;34m=\u001b[0m \u001b[0mself\u001b[0m\u001b[0;34m.\u001b[0m\u001b[0mrnn\u001b[0m\u001b[0;34m(\u001b[0m\u001b[0mx\u001b[0m\u001b[0;34m,\u001b[0m \u001b[0mh0\u001b[0m\u001b[0;34m)\u001b[0m \u001b[0;31m# out: RNN의 마지막 레이어로부터 나온 output feature 를 반환한다. hn: hidden state를 반환한다.\u001b[0m\u001b[0;34m\u001b[0m\u001b[0;34m\u001b[0m\u001b[0m\n\u001b[0m\u001b[1;32m     41\u001b[0m         \u001b[0;31m#print(\"out's shape: {}\".format(out.shape))\u001b[0m\u001b[0;34m\u001b[0m\u001b[0;34m\u001b[0m\u001b[0;34m\u001b[0m\u001b[0m\n\u001b[1;32m     42\u001b[0m         \u001b[0;31m#out = out.reshape(out.shape[0], -1) # many to many 전략\u001b[0m\u001b[0;34m\u001b[0m\u001b[0;34m\u001b[0m\u001b[0;34m\u001b[0m\u001b[0m\n",
      "\u001b[0;32m~/Action_Recognition/Baby-Action-Recognition/mp_env/lib/python3.6/site-packages/torch/nn/modules/module.py\u001b[0m in \u001b[0;36m_call_impl\u001b[0;34m(self, *input, **kwargs)\u001b[0m\n\u001b[1;32m   1100\u001b[0m         if not (self._backward_hooks or self._forward_hooks or self._forward_pre_hooks or _global_backward_hooks\n\u001b[1;32m   1101\u001b[0m                 or _global_forward_hooks or _global_forward_pre_hooks):\n\u001b[0;32m-> 1102\u001b[0;31m             \u001b[0;32mreturn\u001b[0m \u001b[0mforward_call\u001b[0m\u001b[0;34m(\u001b[0m\u001b[0;34m*\u001b[0m\u001b[0minput\u001b[0m\u001b[0;34m,\u001b[0m \u001b[0;34m**\u001b[0m\u001b[0mkwargs\u001b[0m\u001b[0;34m)\u001b[0m\u001b[0;34m\u001b[0m\u001b[0;34m\u001b[0m\u001b[0m\n\u001b[0m\u001b[1;32m   1103\u001b[0m         \u001b[0;31m# Do not call functions when jit is used\u001b[0m\u001b[0;34m\u001b[0m\u001b[0;34m\u001b[0m\u001b[0;34m\u001b[0m\u001b[0m\n\u001b[1;32m   1104\u001b[0m         \u001b[0mfull_backward_hooks\u001b[0m\u001b[0;34m,\u001b[0m \u001b[0mnon_full_backward_hooks\u001b[0m \u001b[0;34m=\u001b[0m \u001b[0;34m[\u001b[0m\u001b[0;34m]\u001b[0m\u001b[0;34m,\u001b[0m \u001b[0;34m[\u001b[0m\u001b[0;34m]\u001b[0m\u001b[0;34m\u001b[0m\u001b[0;34m\u001b[0m\u001b[0m\n",
      "\u001b[0;32m~/Action_Recognition/Baby-Action-Recognition/mp_env/lib/python3.6/site-packages/torch/nn/modules/rnn.py\u001b[0m in \u001b[0;36mforward\u001b[0;34m(self, input, hx)\u001b[0m\n\u001b[1;32m    267\u001b[0m         \u001b[0;32mif\u001b[0m \u001b[0mbatch_sizes\u001b[0m \u001b[0;32mis\u001b[0m \u001b[0;32mNone\u001b[0m\u001b[0;34m:\u001b[0m\u001b[0;34m\u001b[0m\u001b[0;34m\u001b[0m\u001b[0m\n\u001b[1;32m    268\u001b[0m             result = _impl(input, hx, self._flat_weights, self.bias, self.num_layers,\n\u001b[0;32m--> 269\u001b[0;31m                            self.dropout, self.training, self.bidirectional, self.batch_first)\n\u001b[0m\u001b[1;32m    270\u001b[0m         \u001b[0;32melse\u001b[0m\u001b[0;34m:\u001b[0m\u001b[0;34m\u001b[0m\u001b[0;34m\u001b[0m\u001b[0m\n\u001b[1;32m    271\u001b[0m             result = _impl(input, batch_sizes, hx, self._flat_weights, self.bias,\n",
      "\u001b[0;31mKeyboardInterrupt\u001b[0m: "
     ]
    }
   ],
   "source": [
    "# this is for test - predict_oneframe()\n",
    "import pandas as pd\n",
    "from time import time, gmtime, localtime\n",
    "\n",
    "def _get_time():\n",
    "    _ct = gmtime(time())\n",
    "    hour = _ct.tm_hour+9\n",
    "    minute = _ct.tm_min\n",
    "    \n",
    "    return _ct, hour, minute\n",
    "\n",
    "def action_record(bh, bm, ct, action, c):\n",
    "    _t = ct\n",
    "    \n",
    "    _year = _t.tm_year\n",
    "    _month = _t.tm_mon\n",
    "    _day = _t.tm_mday\n",
    "    _hour = _t.tm_hour+9\n",
    "    _min = _t.tm_min\n",
    "    _action = actions[action]\n",
    "    _du_h = _hour - bh\n",
    "    _du_m = _min - bm\n",
    "    \n",
    "    _du = _du_h*60 + _du_m\n",
    "    _co = action_count[action]\n",
    "    \n",
    "    action_time_log.loc[c-1] = [_year, _month, _day, _hour, _min, _action, 0, _co]\n",
    "    \n",
    "    if c != 1:\n",
    "        action_time_log.loc[c-2,'Duration'] = _du\n",
    "    return _hour, _min\n",
    "\n",
    "# action count, time logging\n",
    "action_count = np.zeros(actions.shape[0])\n",
    "action_time_log = pd.DataFrame(columns=['Year', 'Month', 'Day', 'Hour', 'Minute','Action','Duration','Count'])\n",
    "\n",
    "\n",
    "sequence = []\n",
    "sentence = []\n",
    "predictions = []\n",
    "threshold = 0.5\n",
    "co = 0\n",
    "_new_h = 0\n",
    "_new_m = 0\n",
    "_bef_h = 0\n",
    "_bef_m = 0\n",
    "\n",
    "cap = cv2.VideoCapture('../input2.avi')\n",
    "# Set mediapipe model \n",
    "with mp_holistic.Holistic(min_detection_confidence=0.5, min_tracking_confidence=0.5) as holistic:\n",
    "    while cap.isOpened():\n",
    "\n",
    "        # Read feed\n",
    "        ret, frame = cap.read()\n",
    "\n",
    "        # Make detections\n",
    "        image, results = mediapipe_detection(frame, holistic)\n",
    "        \n",
    "        #print(results)\n",
    "        \n",
    "        # Draw landmarks\n",
    "        draw_styled_landmarks(image, results)\n",
    "        \n",
    "        # 2. Prediction logic\n",
    "        keypoints = extract_keypoints(results)\n",
    "        sequence.append(keypoints)\n",
    "        sequence = sequence[-29:]\n",
    "        \n",
    "        if len(sequence) == 29:\n",
    "            sequence_test = np.expand_dims(sequence, axis=0).swapaxes(1,2)\n",
    "            \n",
    "            sequence_test = torch.tensor(sequence_test, dtype=torch.float32)\n",
    "            #print(\"30fps, np expand is: \", np.expand_dims(sequence, axis=0))\n",
    "            #print(\"shape is: {}\".format(np.expand_dims(sequence, axis=0).shape))\n",
    "                # np.expand_dims(sequence, axis=0) (1, 30, 1662)\n",
    "                # ex x shape was:                  (180, 30, 1662)\n",
    "                # train X shape:                   (162, 1662, 29)\n",
    "                # sequece_test shape:              (1, 1662, 29)\n",
    "            #print(type(sequence_test))\n",
    "                # sequence_test type is numpy.ndarray\n",
    "            res = predict_oneframe(sequence_test)[0]\n",
    "                # predict_oneframe shape:          torch.Size([1, 1662, 6])\n",
    "            \n",
    "            #print('res: {}'.format(res.shape))\n",
    "                # res: torch.Size([1662, 6])\n",
    "            #print('res: {}'.format(predict_oneframe(sequence_test).shape))\n",
    "                # predict_oneframe(sequence_test) shape: torch.Size([1, 1662, 6])\n",
    "            \n",
    "            #print('res shape: {} \\targmax: {}'.format(res.shape, np.argmax(res[1])))\n",
    "                # res shape:                       torch.Size([1662, 6]) \n",
    "                # np.argmax(res):                  8\n",
    "                # 결과 action은 res[1] 에 저장되어있다\n",
    "                \n",
    "                \n",
    "            #print(actions[np.argmax(res[1660])])\n",
    "            predictions.append(np.argmax(res[1660]))\n",
    "            \n",
    "        \n",
    "        #3. Visualize and count, logging logic\n",
    "            if np.unique(predictions[-10:])[0]==np.argmax(res[1600]): # 최근 10개의 action이 현재 분류된 action과 같으면\n",
    "            \n",
    "                if res[1600][np.argmax(res[1600])] > 0.001:                # 그리고 현재 분류된 action의 확률이 threshold를 넘으면\n",
    "                    \n",
    "                    if len(sentence) > 0:                          # 처음이 아니면\n",
    "                        if actions[np.argmax(res[1])] != sentence[-1]:     # 이전 action과 다를 때만 logging\n",
    "                            co += 1\n",
    "                            _a = np.argmax(res[1600])\n",
    "                            \n",
    "                            action_count[_a] += 1\n",
    "                            _action = actions[_a]\n",
    "                            \n",
    "                            _bef_h = _new_h\n",
    "                            _bef_m = _new_m\n",
    "                            ct, _new_h, _new_m = _get_time()\n",
    "                            # action_record(bh, bm, ct, action, c)\n",
    "                            action_record(_bef_h, _bef_m, ct, np.argmax(res[1660]), co)\n",
    "                            print(actions[np.argmax(res[1660])])\n",
    "                            #print(action_record)\n",
    "                            sentence.append(actions[np.argmax(res[1660])])\n",
    "                            \n",
    "                    else:\n",
    "                        sentence.append(actions[np.argmax(res[1660])])\n",
    "                else:\n",
    "                    print(\"under threshold, prob is: {}\".format(res[1600][np.argmax(res[1600])]))\n",
    "            if len(sentence) > 5: \n",
    "                sentence = sentence[-5:]\n",
    "\n",
    "            # Viz probabilities\n",
    "            #image = prob_viz(res, actions, image, colors)\n",
    "            \n",
    "        #cv2.rectangle(image, (0,0), (640, 40), (245, 117, 16), -1)\n",
    "        #cv2.putText(image, ' '.join(sentence), (3,30), \n",
    "                       #cv2.FONT_HERSHEY_SIMPLEX, 1, (255, 255, 255), 2, cv2.LINE_AA)\n",
    "        \n",
    "        \n",
    "        # Show to screen\n",
    "        cv2.imshow('OpenCV Feed', image)\n",
    "\n",
    "        # Break gracefully\n",
    "        if cv2.waitKey(10) & 0xFF == ord('q'):\n",
    "            break\n",
    "    \n",
    "    cap.release()\n",
    "    cv2.destroyAllWindows()\n",
    "\n"
   ]
  },
  {
   "cell_type": "code",
   "execution_count": 30,
   "metadata": {},
   "outputs": [],
   "source": [
    "ct = gmtime(time())        \n",
    "\n",
    "# csv save\n",
    "_y = ct.tm_year\n",
    "_m = ct.tm_mon\n",
    "_d = ct.tm_mday\n",
    "\n",
    "_csv_name = str(_y) + str(_m) + str(_d) +'.csv'\n",
    "\n",
    "action_time_log.to_csv('../classify_result/' + _csv_name, header=True, index=True)"
   ]
  },
  {
   "cell_type": "code",
   "execution_count": null,
   "metadata": {},
   "outputs": [],
   "source": []
  }
 ],
 "metadata": {
  "kernelspec": {
   "display_name": "mp_220922_venv",
   "language": "python",
   "name": "mp_220922_venv"
  },
  "language_info": {
   "codemirror_mode": {
    "name": "ipython",
    "version": 3
   },
   "file_extension": ".py",
   "mimetype": "text/x-python",
   "name": "python",
   "nbconvert_exporter": "python",
   "pygments_lexer": "ipython3",
   "version": "3.6.10"
  }
 },
 "nbformat": 4,
 "nbformat_minor": 2
}
