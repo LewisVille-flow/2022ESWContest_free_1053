{
 "cells": [
  {
   "cell_type": "code",
   "execution_count": null,
   "metadata": {},
   "outputs": [],
   "source": [
    "\n",
    "현재 부족한 부분\n",
    "    - model.predict -> model.evaluate (tf->pytorch 변환 필요)\n",
    "    - Action classify 하는 모습(결과)\n",
    "    - 발생 시간, 횟수, 지속 시간 체크\n",
    "    - learning graph\n",
    "    - 결과 디스플레이\n",
    "    - keypoint 추출, 관절 포인트가 아닌 각도로도 학습하도록 해보는것"
   ]
  }
 ],
 "metadata": {
  "kernelspec": {
   "display_name": "mp_220922_venv",
   "language": "python",
   "name": "mp_220922_venv"
  },
  "language_info": {
   "codemirror_mode": {
    "name": "ipython",
    "version": 3
   },
   "file_extension": ".py",
   "mimetype": "text/x-python",
   "name": "python",
   "nbconvert_exporter": "python",
   "pygments_lexer": "ipython3",
   "version": "3.6.10"
  }
 },
 "nbformat": 4,
 "nbformat_minor": 2
}
